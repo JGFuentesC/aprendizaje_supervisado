{
 "cells": [
  {
   "cell_type": "markdown",
   "metadata": {},
   "source": [
    "## Dependencias"
   ]
  },
  {
   "cell_type": "markdown",
   "metadata": {},
   "source": [
    "## Dependencias "
   ]
  },
  {
   "cell_type": "code",
   "execution_count": 1,
   "metadata": {},
   "outputs": [],
   "source": [
    "import numpy as np \n",
    "import pandas as pd \n",
    "import matplotlib.pyplot as plt\n",
    "import seaborn as sns\n",
    "from sklearn.model_selection import train_test_split\n",
    "from sklearn.linear_model import LogisticRegression\n",
    "from sklearn.metrics import roc_auc_score"
   ]
  },
  {
   "cell_type": "markdown",
   "metadata": {},
   "source": [
    "## Cargar Datos"
   ]
  },
  {
   "cell_type": "code",
   "execution_count": 2,
   "metadata": {},
   "outputs": [
    {
     "data": {
      "text/plain": [
       "(2801, 14)"
      ]
     },
     "execution_count": 2,
     "metadata": {},
     "output_type": "execute_result"
    }
   ],
   "source": [
    "data = pd.read_sas('../data/churn.sas7bdat')\n",
    "data.shape"
   ]
  },
  {
   "cell_type": "code",
   "execution_count": 3,
   "metadata": {},
   "outputs": [
    {
     "data": {
      "text/html": [
       "<div>\n",
       "<style scoped>\n",
       "    .dataframe tbody tr th:only-of-type {\n",
       "        vertical-align: middle;\n",
       "    }\n",
       "\n",
       "    .dataframe tbody tr th {\n",
       "        vertical-align: top;\n",
       "    }\n",
       "\n",
       "    .dataframe thead th {\n",
       "        text-align: right;\n",
       "    }\n",
       "</style>\n",
       "<table border=\"1\" class=\"dataframe\">\n",
       "  <thead>\n",
       "    <tr style=\"text-align: right;\">\n",
       "      <th></th>\n",
       "      <th>V_ACCT_LGHT</th>\n",
       "      <th>C_IP</th>\n",
       "      <th>C_VMP</th>\n",
       "      <th>V_N_VM_MESS</th>\n",
       "      <th>V_T_DAY_CHG</th>\n",
       "      <th>V_T_EVE_CALLS</th>\n",
       "      <th>V_T_EVE_CHG</th>\n",
       "      <th>V_T_NIG_CALLS</th>\n",
       "      <th>V_T_NIG_CHG</th>\n",
       "      <th>V_T_INT_CALLS</th>\n",
       "      <th>V_T_INT_CHG</th>\n",
       "      <th>V_CS_CALLS</th>\n",
       "      <th>TARGET</th>\n",
       "      <th>ID</th>\n",
       "    </tr>\n",
       "  </thead>\n",
       "  <tbody>\n",
       "    <tr>\n",
       "      <th>0</th>\n",
       "      <td>128.0</td>\n",
       "      <td>b'No'</td>\n",
       "      <td>b'Yes'</td>\n",
       "      <td>25.0</td>\n",
       "      <td>45.07</td>\n",
       "      <td>99.0</td>\n",
       "      <td>16.78</td>\n",
       "      <td>91.0</td>\n",
       "      <td>11.01</td>\n",
       "      <td>3.0</td>\n",
       "      <td>2.70</td>\n",
       "      <td>1.0</td>\n",
       "      <td>0.0</td>\n",
       "      <td>1.0</td>\n",
       "    </tr>\n",
       "    <tr>\n",
       "      <th>1</th>\n",
       "      <td>107.0</td>\n",
       "      <td>b'No'</td>\n",
       "      <td>b'Yes'</td>\n",
       "      <td>26.0</td>\n",
       "      <td>27.47</td>\n",
       "      <td>103.0</td>\n",
       "      <td>16.62</td>\n",
       "      <td>103.0</td>\n",
       "      <td>11.45</td>\n",
       "      <td>3.0</td>\n",
       "      <td>3.70</td>\n",
       "      <td>1.0</td>\n",
       "      <td>0.0</td>\n",
       "      <td>2.0</td>\n",
       "    </tr>\n",
       "    <tr>\n",
       "      <th>2</th>\n",
       "      <td>137.0</td>\n",
       "      <td>b'No'</td>\n",
       "      <td>b'No'</td>\n",
       "      <td>0.0</td>\n",
       "      <td>41.38</td>\n",
       "      <td>110.0</td>\n",
       "      <td>10.30</td>\n",
       "      <td>104.0</td>\n",
       "      <td>7.32</td>\n",
       "      <td>5.0</td>\n",
       "      <td>3.29</td>\n",
       "      <td>0.0</td>\n",
       "      <td>0.0</td>\n",
       "      <td>3.0</td>\n",
       "    </tr>\n",
       "    <tr>\n",
       "      <th>3</th>\n",
       "      <td>65.0</td>\n",
       "      <td>b'No'</td>\n",
       "      <td>b'No'</td>\n",
       "      <td>0.0</td>\n",
       "      <td>21.95</td>\n",
       "      <td>83.0</td>\n",
       "      <td>19.42</td>\n",
       "      <td>111.0</td>\n",
       "      <td>9.40</td>\n",
       "      <td>6.0</td>\n",
       "      <td>3.43</td>\n",
       "      <td>4.0</td>\n",
       "      <td>1.0</td>\n",
       "      <td>11.0</td>\n",
       "    </tr>\n",
       "    <tr>\n",
       "      <th>4</th>\n",
       "      <td>168.0</td>\n",
       "      <td>b'No'</td>\n",
       "      <td>b'No'</td>\n",
       "      <td>0.0</td>\n",
       "      <td>21.90</td>\n",
       "      <td>71.0</td>\n",
       "      <td>8.92</td>\n",
       "      <td>128.0</td>\n",
       "      <td>6.35</td>\n",
       "      <td>2.0</td>\n",
       "      <td>3.02</td>\n",
       "      <td>1.0</td>\n",
       "      <td>0.0</td>\n",
       "      <td>13.0</td>\n",
       "    </tr>\n",
       "  </tbody>\n",
       "</table>\n",
       "</div>"
      ],
      "text/plain": [
       "   V_ACCT_LGHT   C_IP   C_VMP  V_N_VM_MESS  V_T_DAY_CHG  V_T_EVE_CALLS  \\\n",
       "0        128.0  b'No'  b'Yes'         25.0        45.07           99.0   \n",
       "1        107.0  b'No'  b'Yes'         26.0        27.47          103.0   \n",
       "2        137.0  b'No'   b'No'          0.0        41.38          110.0   \n",
       "3         65.0  b'No'   b'No'          0.0        21.95           83.0   \n",
       "4        168.0  b'No'   b'No'          0.0        21.90           71.0   \n",
       "\n",
       "   V_T_EVE_CHG  V_T_NIG_CALLS  V_T_NIG_CHG  V_T_INT_CALLS  V_T_INT_CHG  \\\n",
       "0        16.78           91.0        11.01            3.0         2.70   \n",
       "1        16.62          103.0        11.45            3.0         3.70   \n",
       "2        10.30          104.0         7.32            5.0         3.29   \n",
       "3        19.42          111.0         9.40            6.0         3.43   \n",
       "4         8.92          128.0         6.35            2.0         3.02   \n",
       "\n",
       "   V_CS_CALLS  TARGET    ID  \n",
       "0         1.0     0.0   1.0  \n",
       "1         1.0     0.0   2.0  \n",
       "2         0.0     0.0   3.0  \n",
       "3         4.0     1.0  11.0  \n",
       "4         1.0     0.0  13.0  "
      ]
     },
     "execution_count": 3,
     "metadata": {},
     "output_type": "execute_result"
    }
   ],
   "source": [
    "data.head()"
   ]
  },
  {
   "cell_type": "markdown",
   "metadata": {},
   "source": [
    "## Partición"
   ]
  },
  {
   "cell_type": "code",
   "execution_count": 4,
   "metadata": {},
   "outputs": [
    {
     "data": {
      "text/plain": [
       "((1960, 14), (841, 14))"
      ]
     },
     "execution_count": 4,
     "metadata": {},
     "output_type": "execute_result"
    }
   ],
   "source": [
    "train, valid = train_test_split(data, test_size=0.3, random_state=42)\n",
    "train.reset_index(drop=True, inplace=True)\n",
    "valid.reset_index(drop=True, inplace=True)\n",
    "train.shape, valid.shape"
   ]
  },
  {
   "cell_type": "markdown",
   "metadata": {},
   "source": [
    "## Naturaleza de variables "
   ]
  },
  {
   "cell_type": "code",
   "execution_count": 9,
   "metadata": {},
   "outputs": [
    {
     "data": {
      "text/plain": [
       "(10, 2)"
      ]
     },
     "execution_count": 9,
     "metadata": {},
     "output_type": "execute_result"
    }
   ],
   "source": [
    "um = ['ID']\n",
    "varc = [v for v in data.columns if v[:2]=='V_']\n",
    "vard = [v for v in data.columns if v[:2]=='C_']\n",
    "vart = ['TARGET']\n",
    "len(varc),len(vard)"
   ]
  },
  {
   "cell_type": "code",
   "execution_count": 7,
   "metadata": {},
   "outputs": [],
   "source": [
    "pd.crosstab(data['C_VMP'],data['TARGET']).to_clipboard()"
   ]
  },
  {
   "cell_type": "code",
   "execution_count": 11,
   "metadata": {},
   "outputs": [],
   "source": [
    "pd.crosstab(pd.cut(data['V_ACCT_LGHT'],bins=4,include_lowest=True),data['TARGET']).to_clipboard()"
   ]
  },
  {
   "cell_type": "code",
   "execution_count": 12,
   "metadata": {},
   "outputs": [],
   "source": [
    "pd.crosstab(pd.cut(data['V_CS_CALLS'],bins=4,include_lowest=True),data['TARGET']).to_clipboard()"
   ]
  },
  {
   "cell_type": "markdown",
   "metadata": {},
   "source": [
    "## Scoring "
   ]
  },
  {
   "cell_type": "code",
   "execution_count": 13,
   "metadata": {},
   "outputs": [],
   "source": [
    "import pandas as pd \n",
    "from CreditScoringToolkit.frequency_table import frequency_table\n",
    "from CreditScoringToolkit.DiscreteNormalizer import DiscreteNormalizer\n",
    "from CreditScoringToolkit.WoeEncoder import WoeEncoder\n",
    "from CreditScoringToolkit.WoeContinuousFeatureSelector import WoeContinuousFeatureSelector\n",
    "from CreditScoringToolkit.WoeDiscreteFeatureSelector import WoeDiscreteFeatureSelector\n",
    "from CreditScoringToolkit.CreditScoring import CreditScoring\n",
    "from sklearn.linear_model import LogisticRegression\n",
    "from sklearn.metrics import roc_auc_score\n",
    "\n",
    "import matplotlib.pyplot as plt\n",
    "import seaborn as sns\n",
    "\n",
    "import warnings\n",
    "warnings.filterwarnings('ignore')"
   ]
  },
  {
   "cell_type": "markdown",
   "metadata": {},
   "source": [
    "## Normalize discrete variables"
   ]
  },
  {
   "cell_type": "code",
   "execution_count": 23,
   "metadata": {},
   "outputs": [
    {
     "name": "stdout",
     "output_type": "stream",
     "text": [
      "****Frequency Table  C_VMP  ***\n",
      "\n",
      "\n",
      "       Abs. Freq.  Rel. Freq.  Cumm. Abs. Freq.  Cumm. Rel. Freq.\n",
      "C_VMP                                                            \n",
      "No           1423     0.72602              1423           0.72602\n",
      "Yes           537     0.27398              1960           1.00000\n",
      "\n",
      "\n",
      "\n",
      "\n"
     ]
    }
   ],
   "source": [
    "dn = DiscreteNormalizer(normalization_threshold=0.1,default_category='SMALL CATEGORIES')\n",
    "dn.fit(train[vard])\n",
    "Xt = dn.transform(train[vard])\n",
    "frequency_table(Xt,vard)"
   ]
  },
  {
   "cell_type": "code",
   "execution_count": 24,
   "metadata": {},
   "outputs": [
    {
     "data": {
      "text/plain": [
       "[]"
      ]
     },
     "execution_count": 24,
     "metadata": {},
     "output_type": "execute_result"
    }
   ],
   "source": [
    "unary = [v for v in vard if Xt[v].nunique()==1]\n",
    "unary"
   ]
  },
  {
   "cell_type": "code",
   "execution_count": 25,
   "metadata": {},
   "outputs": [],
   "source": [
    "vard = [v for v in vard if v not in unary]"
   ]
  },
  {
   "cell_type": "code",
   "execution_count": 26,
   "metadata": {},
   "outputs": [
    {
     "name": "stdout",
     "output_type": "stream",
     "text": [
      "****Frequency Table  C_VMP  ***\n",
      "\n",
      "\n",
      "       Abs. Freq.  Rel. Freq.  Cumm. Abs. Freq.  Cumm. Rel. Freq.\n",
      "C_VMP                                                            \n",
      "No           1423     0.72602              1423           0.72602\n",
      "Yes           537     0.27398              1960           1.00000\n",
      "\n",
      "\n",
      "\n",
      "\n"
     ]
    }
   ],
   "source": [
    "dn.fit(train[vard])\n",
    "Xt = dn.transform(train[vard])\n",
    "frequency_table(Xt,vard)"
   ]
  },
  {
   "cell_type": "code",
   "execution_count": 27,
   "metadata": {},
   "outputs": [],
   "source": [
    "#Merge continuous features matrix with the normalized discrete predictors Matrix\n",
    "Xt = pd.concat([Xt,train[varc]],axis=1) \n",
    "\n",
    "wcf = WoeContinuousFeatureSelector()\n",
    "wdf = WoeDiscreteFeatureSelector()\n",
    "\n",
    "#  Perform feature selection\n",
    "wcf.fit(Xt[varc],train['TARGET'],\n",
    "        max_bins=6,\n",
    "        strictly_monotonic=True,\n",
    "        iv_threshold=0.05,\n",
    "        method='uniform',\n",
    "        n_threads=20)\n",
    "\n",
    "wdf.fit(Xt[vard],train['TARGET'],iv_threshold=0.05)\n"
   ]
  },
  {
   "cell_type": "code",
   "execution_count": 28,
   "metadata": {},
   "outputs": [
    {
     "name": "stdout",
     "output_type": "stream",
     "text": [
      "Best continuous features:  [{'feature': 'disc_V_CS_CALLS_2_uniform', 'iv': 0.5060375084782291, 'root_feature': 'V_CS_CALLS', 'nbins': '2', 'method': 'uniform'}, {'feature': 'disc_V_N_VM_MESS_2_uniform', 'iv': 0.05336257808038661, 'root_feature': 'V_N_VM_MESS', 'nbins': '2', 'method': 'uniform'}, {'feature': 'disc_V_T_EVE_CHG_3_uniform', 'iv': 0.10233919797031091, 'root_feature': 'V_T_EVE_CHG', 'nbins': '3', 'method': 'uniform'}, {'feature': 'disc_V_T_INT_CALLS_4_uniform', 'iv': 0.07813265893012503, 'root_feature': 'V_T_INT_CALLS', 'nbins': '4', 'method': 'uniform'}, {'feature': 'disc_V_T_INT_CHG_4_uniform', 'iv': 0.07795878362265034, 'root_feature': 'V_T_INT_CHG', 'nbins': '4', 'method': 'uniform'}]\n",
      "Best discrete features:  {'C_VMP': 0.07341502817714282}\n",
      "Best Features selected:  ['C_VMP', 'disc_V_CS_CALLS_2_uniform', 'disc_V_N_VM_MESS_2_uniform', 'disc_V_T_EVE_CHG_3_uniform', 'disc_V_T_INT_CALLS_4_uniform', 'disc_V_T_INT_CHG_4_uniform']\n"
     ]
    }
   ],
   "source": [
    "\n",
    "#  Create new matrix with discrete and discretized best features \n",
    "Xt = pd.concat([wdf.transform(Xt[vard]),wcf.transform(Xt[varc])],axis=1)\n",
    "\n",
    "features = list(Xt.columns)\n",
    "\n",
    "#  Print selection results\n",
    "print(\"Best continuous features: \", wcf.selected_features)\n",
    "print(\"Best discrete features: \",wdf.selected_features)\n",
    "print(\"Best Features selected: \",features)"
   ]
  },
  {
   "cell_type": "code",
   "execution_count": 33,
   "metadata": {},
   "outputs": [
    {
     "data": {
      "text/html": [
       "<div>\n",
       "<style scoped>\n",
       "    .dataframe tbody tr th:only-of-type {\n",
       "        vertical-align: middle;\n",
       "    }\n",
       "\n",
       "    .dataframe tbody tr th {\n",
       "        vertical-align: top;\n",
       "    }\n",
       "\n",
       "    .dataframe thead th {\n",
       "        text-align: right;\n",
       "    }\n",
       "</style>\n",
       "<table border=\"1\" class=\"dataframe\">\n",
       "  <thead>\n",
       "    <tr style=\"text-align: right;\">\n",
       "      <th></th>\n",
       "      <th>feature</th>\n",
       "      <th>iv</th>\n",
       "      <th>root_feature</th>\n",
       "      <th>nbins</th>\n",
       "      <th>method</th>\n",
       "    </tr>\n",
       "  </thead>\n",
       "  <tbody>\n",
       "    <tr>\n",
       "      <th>0</th>\n",
       "      <td>disc_V_CS_CALLS_2_uniform</td>\n",
       "      <td>0.506038</td>\n",
       "      <td>V_CS_CALLS</td>\n",
       "      <td>2</td>\n",
       "      <td>uniform</td>\n",
       "    </tr>\n",
       "    <tr>\n",
       "      <th>1</th>\n",
       "      <td>disc_V_N_VM_MESS_2_uniform</td>\n",
       "      <td>0.053363</td>\n",
       "      <td>V_N_VM_MESS</td>\n",
       "      <td>2</td>\n",
       "      <td>uniform</td>\n",
       "    </tr>\n",
       "    <tr>\n",
       "      <th>2</th>\n",
       "      <td>disc_V_T_EVE_CHG_3_uniform</td>\n",
       "      <td>0.102339</td>\n",
       "      <td>V_T_EVE_CHG</td>\n",
       "      <td>3</td>\n",
       "      <td>uniform</td>\n",
       "    </tr>\n",
       "    <tr>\n",
       "      <th>3</th>\n",
       "      <td>disc_V_T_INT_CALLS_4_uniform</td>\n",
       "      <td>0.078133</td>\n",
       "      <td>V_T_INT_CALLS</td>\n",
       "      <td>4</td>\n",
       "      <td>uniform</td>\n",
       "    </tr>\n",
       "    <tr>\n",
       "      <th>4</th>\n",
       "      <td>disc_V_T_INT_CHG_4_uniform</td>\n",
       "      <td>0.077959</td>\n",
       "      <td>V_T_INT_CHG</td>\n",
       "      <td>4</td>\n",
       "      <td>uniform</td>\n",
       "    </tr>\n",
       "  </tbody>\n",
       "</table>\n",
       "</div>"
      ],
      "text/plain": [
       "                        feature        iv   root_feature nbins   method\n",
       "0     disc_V_CS_CALLS_2_uniform  0.506038     V_CS_CALLS     2  uniform\n",
       "1    disc_V_N_VM_MESS_2_uniform  0.053363    V_N_VM_MESS     2  uniform\n",
       "2    disc_V_T_EVE_CHG_3_uniform  0.102339    V_T_EVE_CHG     3  uniform\n",
       "3  disc_V_T_INT_CALLS_4_uniform  0.078133  V_T_INT_CALLS     4  uniform\n",
       "4    disc_V_T_INT_CHG_4_uniform  0.077959    V_T_INT_CHG     4  uniform"
      ]
     },
     "execution_count": 33,
     "metadata": {},
     "output_type": "execute_result"
    }
   ],
   "source": [
    "pd.DataFrame(wcf.selected_features)"
   ]
  },
  {
   "cell_type": "markdown",
   "metadata": {},
   "source": [
    "## WoE Transformation"
   ]
  },
  {
   "cell_type": "code",
   "execution_count": 34,
   "metadata": {},
   "outputs": [
    {
     "data": {
      "text/html": [
       "<div>\n",
       "<style scoped>\n",
       "    .dataframe tbody tr th:only-of-type {\n",
       "        vertical-align: middle;\n",
       "    }\n",
       "\n",
       "    .dataframe tbody tr th {\n",
       "        vertical-align: top;\n",
       "    }\n",
       "\n",
       "    .dataframe thead th {\n",
       "        text-align: right;\n",
       "    }\n",
       "</style>\n",
       "<table border=\"1\" class=\"dataframe\">\n",
       "  <thead>\n",
       "    <tr style=\"text-align: right;\">\n",
       "      <th></th>\n",
       "      <th>C_VMP</th>\n",
       "      <th>disc_V_CS_CALLS_2_uniform</th>\n",
       "      <th>disc_V_N_VM_MESS_2_uniform</th>\n",
       "      <th>disc_V_T_EVE_CHG_3_uniform</th>\n",
       "      <th>disc_V_T_INT_CALLS_4_uniform</th>\n",
       "      <th>disc_V_T_INT_CHG_4_uniform</th>\n",
       "    </tr>\n",
       "  </thead>\n",
       "  <tbody>\n",
       "    <tr>\n",
       "      <th>0</th>\n",
       "      <td>-0.148645</td>\n",
       "      <td>-1.779315</td>\n",
       "      <td>-0.115325</td>\n",
       "      <td>-0.444314</td>\n",
       "      <td>0.076983</td>\n",
       "      <td>-0.650305</td>\n",
       "    </tr>\n",
       "    <tr>\n",
       "      <th>1</th>\n",
       "      <td>-0.148645</td>\n",
       "      <td>0.296370</td>\n",
       "      <td>-0.115325</td>\n",
       "      <td>-0.444314</td>\n",
       "      <td>0.223306</td>\n",
       "      <td>0.118373</td>\n",
       "    </tr>\n",
       "    <tr>\n",
       "      <th>2</th>\n",
       "      <td>-0.148645</td>\n",
       "      <td>0.296370</td>\n",
       "      <td>-0.115325</td>\n",
       "      <td>0.039501</td>\n",
       "      <td>0.223306</td>\n",
       "      <td>0.046794</td>\n",
       "    </tr>\n",
       "    <tr>\n",
       "      <th>3</th>\n",
       "      <td>-0.148645</td>\n",
       "      <td>0.296370</td>\n",
       "      <td>-0.115325</td>\n",
       "      <td>0.039501</td>\n",
       "      <td>-0.182197</td>\n",
       "      <td>0.046794</td>\n",
       "    </tr>\n",
       "    <tr>\n",
       "      <th>4</th>\n",
       "      <td>-0.148645</td>\n",
       "      <td>0.296370</td>\n",
       "      <td>-0.115325</td>\n",
       "      <td>0.039501</td>\n",
       "      <td>-0.182197</td>\n",
       "      <td>0.118373</td>\n",
       "    </tr>\n",
       "  </tbody>\n",
       "</table>\n",
       "</div>"
      ],
      "text/plain": [
       "      C_VMP  disc_V_CS_CALLS_2_uniform  disc_V_N_VM_MESS_2_uniform  \\\n",
       "0 -0.148645                  -1.779315                   -0.115325   \n",
       "1 -0.148645                   0.296370                   -0.115325   \n",
       "2 -0.148645                   0.296370                   -0.115325   \n",
       "3 -0.148645                   0.296370                   -0.115325   \n",
       "4 -0.148645                   0.296370                   -0.115325   \n",
       "\n",
       "   disc_V_T_EVE_CHG_3_uniform  disc_V_T_INT_CALLS_4_uniform  \\\n",
       "0                   -0.444314                      0.076983   \n",
       "1                   -0.444314                      0.223306   \n",
       "2                    0.039501                      0.223306   \n",
       "3                    0.039501                     -0.182197   \n",
       "4                    0.039501                     -0.182197   \n",
       "\n",
       "   disc_V_T_INT_CHG_4_uniform  \n",
       "0                   -0.650305  \n",
       "1                    0.118373  \n",
       "2                    0.046794  \n",
       "3                    0.046794  \n",
       "4                    0.118373  "
      ]
     },
     "execution_count": 34,
     "metadata": {},
     "output_type": "execute_result"
    }
   ],
   "source": [
    "#  Weight of Evidence Transformation\n",
    "we = WoeEncoder()\n",
    "we.fit(Xt[features],train['TARGET'])\n",
    "Xwt = we.transform(Xt[features])\n",
    "Xwt.head()"
   ]
  },
  {
   "cell_type": "markdown",
   "metadata": {},
   "source": [
    "## Aprendizaje con regresión logística"
   ]
  },
  {
   "cell_type": "code",
   "execution_count": 36,
   "metadata": {},
   "outputs": [
    {
     "name": "stdout",
     "output_type": "stream",
     "text": [
      "AUC for training:  0.7619371205943644\n"
     ]
    }
   ],
   "source": [
    "lr = LogisticRegression()\n",
    "lr.fit(Xwt,train['TARGET'])\n",
    "print(\"AUC for training: \",roc_auc_score(y_score=lr.predict_proba(Xwt)[:,1],y_true=train['TARGET']))"
   ]
  },
  {
   "cell_type": "code",
   "execution_count": 38,
   "metadata": {},
   "outputs": [
    {
     "data": {
      "text/plain": [
       "(array([[-1.17669206, -1.02893254,  0.08498279, -1.08458691, -0.91998719,\n",
       "         -1.02299533]]),\n",
       " array([-1.77684896]))"
      ]
     },
     "execution_count": 38,
     "metadata": {},
     "output_type": "execute_result"
    }
   ],
   "source": [
    "lr.coef_,lr.intercept_"
   ]
  },
  {
   "cell_type": "markdown",
   "metadata": {},
   "source": [
    "## Scoring "
   ]
  },
  {
   "cell_type": "code",
   "execution_count": 39,
   "metadata": {},
   "outputs": [
    {
     "data": {
      "text/html": [
       "<div>\n",
       "<style scoped>\n",
       "    .dataframe tbody tr th:only-of-type {\n",
       "        vertical-align: middle;\n",
       "    }\n",
       "\n",
       "    .dataframe tbody tr th {\n",
       "        vertical-align: top;\n",
       "    }\n",
       "\n",
       "    .dataframe thead th {\n",
       "        text-align: right;\n",
       "    }\n",
       "</style>\n",
       "<table border=\"1\" class=\"dataframe\">\n",
       "  <thead>\n",
       "    <tr style=\"text-align: right;\">\n",
       "      <th></th>\n",
       "      <th></th>\n",
       "      <th>points</th>\n",
       "    </tr>\n",
       "    <tr>\n",
       "      <th>feature</th>\n",
       "      <th>attribute</th>\n",
       "      <th></th>\n",
       "    </tr>\n",
       "  </thead>\n",
       "  <tbody>\n",
       "    <tr>\n",
       "      <th rowspan=\"2\" valign=\"top\">C_VMP</th>\n",
       "      <th>No</th>\n",
       "      <td>53</td>\n",
       "    </tr>\n",
       "    <tr>\n",
       "      <th>Yes</th>\n",
       "      <td>74</td>\n",
       "    </tr>\n",
       "    <tr>\n",
       "      <th rowspan=\"2\" valign=\"top\">disc_V_CS_CALLS_2_uniform</th>\n",
       "      <th>(-inf, 3.0]</th>\n",
       "      <td>66</td>\n",
       "    </tr>\n",
       "    <tr>\n",
       "      <th>(3.0, inf]</th>\n",
       "      <td>5</td>\n",
       "    </tr>\n",
       "    <tr>\n",
       "      <th rowspan=\"2\" valign=\"top\">disc_V_N_VM_MESS_2_uniform</th>\n",
       "      <th>(-inf, 21.5]</th>\n",
       "      <td>58</td>\n",
       "    </tr>\n",
       "    <tr>\n",
       "      <th>(21.5, inf]</th>\n",
       "      <td>56</td>\n",
       "    </tr>\n",
       "    <tr>\n",
       "      <th rowspan=\"3\" valign=\"top\">disc_V_T_EVE_CHG_3_uniform</th>\n",
       "      <th>(-inf, 13.573]</th>\n",
       "      <td>75</td>\n",
       "    </tr>\n",
       "    <tr>\n",
       "      <th>(13.573, 20.347]</th>\n",
       "      <td>59</td>\n",
       "    </tr>\n",
       "    <tr>\n",
       "      <th>(20.347, inf]</th>\n",
       "      <td>44</td>\n",
       "    </tr>\n",
       "    <tr>\n",
       "      <th rowspan=\"4\" valign=\"top\">disc_V_T_INT_CALLS_4_uniform</th>\n",
       "      <th>(-inf, 4.0]</th>\n",
       "      <td>53</td>\n",
       "    </tr>\n",
       "    <tr>\n",
       "      <th>(10.0, inf]</th>\n",
       "      <td>60</td>\n",
       "    </tr>\n",
       "    <tr>\n",
       "      <th>(4.0, 7.0]</th>\n",
       "      <td>64</td>\n",
       "    </tr>\n",
       "    <tr>\n",
       "      <th>(7.0, 10.0]</th>\n",
       "      <td>80</td>\n",
       "    </tr>\n",
       "    <tr>\n",
       "      <th rowspan=\"4\" valign=\"top\">disc_V_T_INT_CHG_4_uniform</th>\n",
       "      <th>(-inf, 1.795]</th>\n",
       "      <td>70</td>\n",
       "    </tr>\n",
       "    <tr>\n",
       "      <th>(1.795, 2.7]</th>\n",
       "      <td>61</td>\n",
       "    </tr>\n",
       "    <tr>\n",
       "      <th>(2.7, 3.605]</th>\n",
       "      <td>59</td>\n",
       "    </tr>\n",
       "    <tr>\n",
       "      <th>(3.605, inf]</th>\n",
       "      <td>38</td>\n",
       "    </tr>\n",
       "  </tbody>\n",
       "</table>\n",
       "</div>"
      ],
      "text/plain": [
       "                                               points\n",
       "feature                      attribute               \n",
       "C_VMP                        No                    53\n",
       "                             Yes                   74\n",
       "disc_V_CS_CALLS_2_uniform    (-inf, 3.0]           66\n",
       "                             (3.0, inf]             5\n",
       "disc_V_N_VM_MESS_2_uniform   (-inf, 21.5]          58\n",
       "                             (21.5, inf]           56\n",
       "disc_V_T_EVE_CHG_3_uniform   (-inf, 13.573]        75\n",
       "                             (13.573, 20.347]      59\n",
       "                             (20.347, inf]         44\n",
       "disc_V_T_INT_CALLS_4_uniform (-inf, 4.0]           53\n",
       "                             (10.0, inf]           60\n",
       "                             (4.0, 7.0]            64\n",
       "                             (7.0, 10.0]           80\n",
       "disc_V_T_INT_CHG_4_uniform   (-inf, 1.795]         70\n",
       "                             (1.795, 2.7]          61\n",
       "                             (2.7, 3.605]          59\n",
       "                             (3.605, inf]          38"
      ]
     },
     "execution_count": 39,
     "metadata": {},
     "output_type": "execute_result"
    }
   ],
   "source": [
    "cs = CreditScoring()\n",
    "cs.fit(Xwt,we,lr)\n",
    "cs.scorecard"
   ]
  },
  {
   "cell_type": "code",
   "execution_count": 40,
   "metadata": {},
   "outputs": [
    {
     "name": "stdout",
     "output_type": "stream",
     "text": [
      "AUC for validation:  0.7192253914988814\n"
     ]
    }
   ],
   "source": [
    "#  Applying all transformations to the validation data is now easy and straightforward\n",
    "#  we can compute AUC to check model overfitting\n",
    "Xv = pd.concat([wdf.transform(dn.transform(valid[vard])),wcf.transform(valid[varc])],axis=1)\n",
    "Xwv = we.transform(Xv)\n",
    "print(\"AUC for validation: \",roc_auc_score(y_score=lr.predict_proba(Xwv)[:,1],y_true=valid['TARGET']))"
   ]
  },
  {
   "cell_type": "code",
   "execution_count": 41,
   "metadata": {},
   "outputs": [
    {
     "data": {
      "image/png": "[encoded data removed]",
      "text/plain": [
       "<Figure size 640x480 with 1 Axes>"
      ]
     },
     "metadata": {},
     "output_type": "display_data"
    },
    {
     "data": {
      "image/png": "[encoded data removed]",
      "text/plain": [
       "<Figure size 640x480 with 1 Axes>"
      ]
     },
     "metadata": {},
     "output_type": "display_data"
    }
   ],
   "source": [
    "#  We can check the score transformation distributions for training and validation\n",
    "score = pd.concat([pd.concat([cs.transform(we.inverse_transform(Xwv))[['score']].assign(sample='validation'),valid['TARGET']],axis=1),\n",
    "pd.concat([cs.transform(we.inverse_transform(Xwt))[['score']].assign(sample='train'),train['TARGET']],axis=1)\n",
    "                  ],ignore_index=True)\n",
    "\n",
    "for s,d in score.groupby('sample'):\n",
    "    plt.figure()\n",
    "    plt.title(s)\n",
    "    sns.histplot(d['score'],legend=True,fill=True,bins=8)"
   ]
  },
  {
   "cell_type": "code",
   "execution_count": 42,
   "metadata": {},
   "outputs": [
    {
     "data": {
      "text/plain": [
       "<Figure size 640x480 with 0 Axes>"
      ]
     },
     "metadata": {},
     "output_type": "display_data"
    },
    {
     "data": {
      "image/png": "[encoded data removed]",
      "text/plain": [
       "<Figure size 640x480 with 1 Axes>"
      ]
     },
     "metadata": {},
     "output_type": "display_data"
    },
    {
     "data": {
      "text/plain": [
       "<Figure size 640x480 with 0 Axes>"
      ]
     },
     "metadata": {},
     "output_type": "display_data"
    },
    {
     "data": {
      "image/png": "[encoded data removed]",
      "text/plain": [
       "<Figure size 640x480 with 1 Axes>"
      ]
     },
     "metadata": {},
     "output_type": "display_data"
    }
   ],
   "source": [
    "#   Finally, we can observe that, the greater the score, the lower the probability of being a \n",
    "#   bad customer (label=1) for both samples. Now all complexity is absorbed   \n",
    "score['score_range'] = pd.cut(score['score'],bins=6,include_lowest=True).astype(str)\n",
    "for s,d in score.groupby('sample'):\n",
    "    aux = d.pivot_table(index='TARGET',\n",
    "                        columns='score_range',\n",
    "                        values='score',\n",
    "                        aggfunc='count',\n",
    "                        fill_value=0)\n",
    "    aux/=aux.sum()\n",
    "    aux = aux.T\n",
    "    plt.figure()\n",
    "    ax = aux.plot(kind='bar',stacked=True,color=['purple','black'])\n",
    "    plt.title(s)"
   ]
  },
  {
   "cell_type": "code",
   "execution_count": 47,
   "metadata": {},
   "outputs": [],
   "source": [
    "score['score_range'] = pd.cut(score['score'],bins=6,include_lowest=True).astype(str)"
   ]
  },
  {
   "cell_type": "code",
   "execution_count": null,
   "metadata": {},
   "outputs": [],
   "source": []
  },
  {
   "cell_type": "code",
   "execution_count": 49,
   "metadata": {},
   "outputs": [],
   "source": [
    "score.groupby(['score_range','TARGET','sample']).count().to_clipboard()"
   ]
  },
  {
   "cell_type": "code",
   "execution_count": 52,
   "metadata": {},
   "outputs": [
    {
     "data": {
      "text/plain": [
       "(20, np.float64(400.0), 400)"
      ]
     },
     "execution_count": 52,
     "metadata": {},
     "output_type": "execute_result"
    }
   ],
   "source": [
    "cs.pdo,cs.offset,cs.base_score"
   ]
  },
  {
   "cell_type": "code",
   "execution_count": null,
   "metadata": {},
   "outputs": [],
   "source": []
  }
 ],
 "metadata": {
  "kernelspec": {
   "display_name": ".venv",
   "language": "python",
   "name": "python3"
  },
  "language_info": {
   "codemirror_mode": {
    "name": "ipython",
    "version": 3
   },
   "file_extension": ".py",
   "mimetype": "text/x-python",
   "name": "python",
   "nbconvert_exporter": "python",
   "pygments_lexer": "ipython3",
   "version": "3.11.6"
  }
 },
 "nbformat": 4,
 "nbformat_minor": 2
}
