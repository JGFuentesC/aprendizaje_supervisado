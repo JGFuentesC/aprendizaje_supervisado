{
 "cells": [
  {
   "cell_type": "markdown",
   "metadata": {},
   "source": [
    "## Dependencias "
   ]
  },
  {
   "cell_type": "code",
   "execution_count": 141,
   "metadata": {},
   "outputs": [],
   "source": [
    "import numpy as np \n",
    "import pandas as pd \n",
    "import matplotlib.pyplot as plt\n",
    "import seaborn as sns\n",
    "from sklearn.model_selection import train_test_split\n",
    "from scipy import stats \n",
    "from varclushi import VarClusHi\n",
    "from sklearn.impute import SimpleImputer\n",
    "from sklearn.linear_model import LogisticRegression\n",
    "from sklearn.metrics import roc_auc_score\n",
    "\n",
    "\n",
    "from CreditScoringToolkit.frequency_table import frequency_table\n",
    "from CreditScoringToolkit.DiscreteNormalizer import DiscreteNormalizer\n",
    "from CreditScoringToolkit.WoeEncoder import WoeEncoder\n",
    "from CreditScoringToolkit.WoeContinuousFeatureSelector import WoeContinuousFeatureSelector\n",
    "from CreditScoringToolkit.WoeDiscreteFeatureSelector import WoeDiscreteFeatureSelector\n",
    "from CreditScoringToolkit.CreditScoring import CreditScoring\n",
    "\n",
    "\n",
    "import warnings\n",
    "warnings.filterwarnings('ignore')"
   ]
  },
  {
   "cell_type": "markdown",
   "metadata": {},
   "source": [
    "## Cargar Datos"
   ]
  },
  {
   "cell_type": "code",
   "execution_count": 142,
   "metadata": {},
   "outputs": [
    {
     "data": {
      "text/plain": [
       "(1438874, 13)"
      ]
     },
     "execution_count": 142,
     "metadata": {},
     "output_type": "execute_result"
    }
   ],
   "source": [
    "data = pd.read_csv('../data/churn_taxi.zip')\n",
    "data.shape"
   ]
  },
  {
   "cell_type": "code",
   "execution_count": 143,
   "metadata": {},
   "outputs": [
    {
     "data": {
      "text/html": [
       "<div>\n",
       "<style scoped>\n",
       "    .dataframe tbody tr th:only-of-type {\n",
       "        vertical-align: middle;\n",
       "    }\n",
       "\n",
       "    .dataframe tbody tr th {\n",
       "        vertical-align: top;\n",
       "    }\n",
       "\n",
       "    .dataframe thead th {\n",
       "        text-align: right;\n",
       "    }\n",
       "</style>\n",
       "<table border=\"1\" class=\"dataframe\">\n",
       "  <thead>\n",
       "    <tr style=\"text-align: right;\">\n",
       "      <th></th>\n",
       "      <th>id_taxi</th>\n",
       "      <th>fh_mes</th>\n",
       "      <th>d_debajo_prom_ing</th>\n",
       "      <th>c_ticket_prom</th>\n",
       "      <th>c_num_meses_activo</th>\n",
       "      <th>c_prom_ing_mes_c_prop</th>\n",
       "      <th>c_prom_ing_mes_s_prop</th>\n",
       "      <th>c_pct_viajes_malos</th>\n",
       "      <th>c_distancia_promedio</th>\n",
       "      <th>d_empresa</th>\n",
       "      <th>c_pct_cash</th>\n",
       "      <th>fuga</th>\n",
       "      <th>d_mes</th>\n",
       "    </tr>\n",
       "  </thead>\n",
       "  <tbody>\n",
       "    <tr>\n",
       "      <th>0</th>\n",
       "      <td>1</td>\n",
       "      <td>2015-03-01</td>\n",
       "      <td>True</td>\n",
       "      <td>41.118113</td>\n",
       "      <td>5</td>\n",
       "      <td>363.210000</td>\n",
       "      <td>361.210000</td>\n",
       "      <td>0.094340</td>\n",
       "      <td>0.00000</td>\n",
       "      <td>OTRA</td>\n",
       "      <td>0.000000</td>\n",
       "      <td>0</td>\n",
       "      <td>3</td>\n",
       "    </tr>\n",
       "    <tr>\n",
       "      <th>1</th>\n",
       "      <td>1</td>\n",
       "      <td>2015-05-01</td>\n",
       "      <td>True</td>\n",
       "      <td>41.621228</td>\n",
       "      <td>6</td>\n",
       "      <td>395.401667</td>\n",
       "      <td>392.235000</td>\n",
       "      <td>0.122807</td>\n",
       "      <td>0.00000</td>\n",
       "      <td>OTRA</td>\n",
       "      <td>0.000000</td>\n",
       "      <td>0</td>\n",
       "      <td>5</td>\n",
       "    </tr>\n",
       "    <tr>\n",
       "      <th>2</th>\n",
       "      <td>1</td>\n",
       "      <td>2015-11-01</td>\n",
       "      <td>True</td>\n",
       "      <td>50.869524</td>\n",
       "      <td>4</td>\n",
       "      <td>356.086667</td>\n",
       "      <td>318.743333</td>\n",
       "      <td>0.054545</td>\n",
       "      <td>0.00000</td>\n",
       "      <td>OTRA</td>\n",
       "      <td>0.000000</td>\n",
       "      <td>0</td>\n",
       "      <td>11</td>\n",
       "    </tr>\n",
       "    <tr>\n",
       "      <th>3</th>\n",
       "      <td>1</td>\n",
       "      <td>2015-12-01</td>\n",
       "      <td>True</td>\n",
       "      <td>50.421961</td>\n",
       "      <td>5</td>\n",
       "      <td>428.586667</td>\n",
       "      <td>391.243333</td>\n",
       "      <td>0.018182</td>\n",
       "      <td>0.00000</td>\n",
       "      <td>OTRA</td>\n",
       "      <td>0.000000</td>\n",
       "      <td>0</td>\n",
       "      <td>12</td>\n",
       "    </tr>\n",
       "    <tr>\n",
       "      <th>4</th>\n",
       "      <td>1</td>\n",
       "      <td>2016-01-01</td>\n",
       "      <td>True</td>\n",
       "      <td>23.660963</td>\n",
       "      <td>6</td>\n",
       "      <td>532.371667</td>\n",
       "      <td>465.310000</td>\n",
       "      <td>0.607407</td>\n",
       "      <td>3.57963</td>\n",
       "      <td>OTRA</td>\n",
       "      <td>0.407898</td>\n",
       "      <td>1</td>\n",
       "      <td>1</td>\n",
       "    </tr>\n",
       "  </tbody>\n",
       "</table>\n",
       "</div>"
      ],
      "text/plain": [
       "   id_taxi      fh_mes  d_debajo_prom_ing  c_ticket_prom  c_num_meses_activo  \\\n",
       "0        1  2015-03-01               True      41.118113                   5   \n",
       "1        1  2015-05-01               True      41.621228                   6   \n",
       "2        1  2015-11-01               True      50.869524                   4   \n",
       "3        1  2015-12-01               True      50.421961                   5   \n",
       "4        1  2016-01-01               True      23.660963                   6   \n",
       "\n",
       "   c_prom_ing_mes_c_prop  c_prom_ing_mes_s_prop  c_pct_viajes_malos  \\\n",
       "0             363.210000             361.210000            0.094340   \n",
       "1             395.401667             392.235000            0.122807   \n",
       "2             356.086667             318.743333            0.054545   \n",
       "3             428.586667             391.243333            0.018182   \n",
       "4             532.371667             465.310000            0.607407   \n",
       "\n",
       "   c_distancia_promedio d_empresa  c_pct_cash  fuga  d_mes  \n",
       "0               0.00000      OTRA    0.000000     0      3  \n",
       "1               0.00000      OTRA    0.000000     0      5  \n",
       "2               0.00000      OTRA    0.000000     0     11  \n",
       "3               0.00000      OTRA    0.000000     0     12  \n",
       "4               3.57963      OTRA    0.407898     1      1  "
      ]
     },
     "execution_count": 143,
     "metadata": {},
     "output_type": "execute_result"
    }
   ],
   "source": [
    "data.head()"
   ]
  },
  {
   "cell_type": "markdown",
   "metadata": {},
   "source": [
    "## Partición"
   ]
  },
  {
   "cell_type": "code",
   "execution_count": 144,
   "metadata": {},
   "outputs": [
    {
     "data": {
      "text/plain": [
       "((1007211, 13), (431663, 13))"
      ]
     },
     "execution_count": 144,
     "metadata": {},
     "output_type": "execute_result"
    }
   ],
   "source": [
    "train, valid = train_test_split(data, test_size=0.3, random_state=42)\n",
    "train.reset_index(drop=True, inplace=True)\n",
    "valid.reset_index(drop=True, inplace=True)\n",
    "train.shape, valid.shape"
   ]
  },
  {
   "cell_type": "code",
   "execution_count": 145,
   "metadata": {},
   "outputs": [],
   "source": [
    "full = train.copy()\n",
    "train = train.sample(5000, random_state=42).reset_index(drop=True)"
   ]
  },
  {
   "cell_type": "markdown",
   "metadata": {},
   "source": [
    "## Naturaleza de variables "
   ]
  },
  {
   "cell_type": "code",
   "execution_count": 146,
   "metadata": {},
   "outputs": [
    {
     "data": {
      "text/plain": [
       "(7, 3)"
      ]
     },
     "execution_count": 146,
     "metadata": {},
     "output_type": "execute_result"
    }
   ],
   "source": [
    "um = ['id_taxi','fh_mes']\n",
    "varc = [v for v in data.columns if v[:2]=='c_']\n",
    "vard = [v for v in data.columns if v[:2]=='d_']\n",
    "vart = ['fuga']\n",
    "len(varc),len(vard)"
   ]
  },
  {
   "cell_type": "code",
   "execution_count": null,
   "metadata": {},
   "outputs": [
    {
     "name": "stdout",
     "output_type": "stream",
     "text": [
      "c_ticket_prom 0.011287350316865119\n",
      "c_num_meses_activo 0.01089870225801745\n",
      "c_prom_ing_mes_c_prop 0.018583002171342455\n",
      "c_prom_ing_mes_s_prop 0.017234965265470692\n",
      "c_pct_viajes_malos 0.011354999275264621\n",
      "c_distancia_promedio 0.01316878016213352\n",
      "c_pct_cash 0.009508837762196465\n"
     ]
    }
   ],
   "source": [
    "# Validación de representatividad de la muestra\n",
    "for v in varc:\n",
    "    print(v, stats.ks_2samp(train[v].dropna(), full[v].dropna()).statistic)"
   ]
  },
  {
   "cell_type": "markdown",
   "metadata": {},
   "source": [
    "## Análisis Exploratorio de datos "
   ]
  },
  {
   "cell_type": "markdown",
   "metadata": {},
   "source": [
    "### Continuo "
   ]
  },
  {
   "cell_type": "markdown",
   "metadata": {},
   "source": [
    "#### Ausentes"
   ]
  },
  {
   "cell_type": "code",
   "execution_count": 147,
   "metadata": {},
   "outputs": [
    {
     "data": {
      "text/plain": [
       "c_ticket_prom            0.0000\n",
       "c_num_meses_activo       0.0000\n",
       "c_prom_ing_mes_c_prop    0.0000\n",
       "c_prom_ing_mes_s_prop    0.0000\n",
       "c_pct_viajes_malos       0.0192\n",
       "c_distancia_promedio     0.0192\n",
       "c_pct_cash               0.0194\n",
       "dtype: float64"
      ]
     },
     "execution_count": 147,
     "metadata": {},
     "output_type": "execute_result"
    }
   ],
   "source": [
    "train[varc].isna().sum()/len(train)"
   ]
  },
  {
   "cell_type": "code",
   "execution_count": 148,
   "metadata": {},
   "outputs": [],
   "source": [
    "im = SimpleImputer(strategy='median')"
   ]
  },
  {
   "cell_type": "code",
   "execution_count": 149,
   "metadata": {},
   "outputs": [
    {
     "data": {
      "text/html": [
       "<style>#sk-container-id-5 {\n",
       "  /* Definition of color scheme common for light and dark mode */\n",
       "  --sklearn-color-text: black;\n",
       "  --sklearn-color-line: gray;\n",
       "  /* Definition of color scheme for unfitted estimators */\n",
       "  --sklearn-color-unfitted-level-0: #fff5e6;\n",
       "  --sklearn-color-unfitted-level-1: #f6e4d2;\n",
       "  --sklearn-color-unfitted-level-2: #ffe0b3;\n",
       "  --sklearn-color-unfitted-level-3: chocolate;\n",
       "  /* Definition of color scheme for fitted estimators */\n",
       "  --sklearn-color-fitted-level-0: #f0f8ff;\n",
       "  --sklearn-color-fitted-level-1: #d4ebff;\n",
       "  --sklearn-color-fitted-level-2: #b3dbfd;\n",
       "  --sklearn-color-fitted-level-3: cornflowerblue;\n",
       "\n",
       "  /* Specific color for light theme */\n",
       "  --sklearn-color-text-on-default-background: var(--sg-text-color, var(--theme-code-foreground, var(--jp-content-font-color1, black)));\n",
       "  --sklearn-color-background: var(--sg-background-color, var(--theme-background, var(--jp-layout-color0, white)));\n",
       "  --sklearn-color-border-box: var(--sg-text-color, var(--theme-code-foreground, var(--jp-content-font-color1, black)));\n",
       "  --sklearn-color-icon: #696969;\n",
       "\n",
       "  @media (prefers-color-scheme: dark) {\n",
       "    /* Redefinition of color scheme for dark theme */\n",
       "    --sklearn-color-text-on-default-background: var(--sg-text-color, var(--theme-code-foreground, var(--jp-content-font-color1, white)));\n",
       "    --sklearn-color-background: var(--sg-background-color, var(--theme-background, var(--jp-layout-color0, #111)));\n",
       "    --sklearn-color-border-box: var(--sg-text-color, var(--theme-code-foreground, var(--jp-content-font-color1, white)));\n",
       "    --sklearn-color-icon: #878787;\n",
       "  }\n",
       "}\n",
       "\n",
       "#sk-container-id-5 {\n",
       "  color: var(--sklearn-color-text);\n",
       "}\n",
       "\n",
       "#sk-container-id-5 pre {\n",
       "  padding: 0;\n",
       "}\n",
       "\n",
       "#sk-container-id-5 input.sk-hidden--visually {\n",
       "  border: 0;\n",
       "  clip: rect(1px 1px 1px 1px);\n",
       "  clip: rect(1px, 1px, 1px, 1px);\n",
       "  height: 1px;\n",
       "  margin: -1px;\n",
       "  overflow: hidden;\n",
       "  padding: 0;\n",
       "  position: absolute;\n",
       "  width: 1px;\n",
       "}\n",
       "\n",
       "#sk-container-id-5 div.sk-dashed-wrapped {\n",
       "  border: 1px dashed var(--sklearn-color-line);\n",
       "  margin: 0 0.4em 0.5em 0.4em;\n",
       "  box-sizing: border-box;\n",
       "  padding-bottom: 0.4em;\n",
       "  background-color: var(--sklearn-color-background);\n",
       "}\n",
       "\n",
       "#sk-container-id-5 div.sk-container {\n",
       "  /* jupyter's `normalize.less` sets `[hidden] { display: none; }`\n",
       "     but bootstrap.min.css set `[hidden] { display: none !important; }`\n",
       "     so we also need the `!important` here to be able to override the\n",
       "     default hidden behavior on the sphinx rendered scikit-learn.org.\n",
       "     See: https://github.com/scikit-learn/scikit-learn/issues/21755 */\n",
       "  display: inline-block !important;\n",
       "  position: relative;\n",
       "}\n",
       "\n",
       "#sk-container-id-5 div.sk-text-repr-fallback {\n",
       "  display: none;\n",
       "}\n",
       "\n",
       "div.sk-parallel-item,\n",
       "div.sk-serial,\n",
       "div.sk-item {\n",
       "  /* draw centered vertical line to link estimators */\n",
       "  background-image: linear-gradient(var(--sklearn-color-text-on-default-background), var(--sklearn-color-text-on-default-background));\n",
       "  background-size: 2px 100%;\n",
       "  background-repeat: no-repeat;\n",
       "  background-position: center center;\n",
       "}\n",
       "\n",
       "/* Parallel-specific style estimator block */\n",
       "\n",
       "#sk-container-id-5 div.sk-parallel-item::after {\n",
       "  content: \"\";\n",
       "  width: 100%;\n",
       "  border-bottom: 2px solid var(--sklearn-color-text-on-default-background);\n",
       "  flex-grow: 1;\n",
       "}\n",
       "\n",
       "#sk-container-id-5 div.sk-parallel {\n",
       "  display: flex;\n",
       "  align-items: stretch;\n",
       "  justify-content: center;\n",
       "  background-color: var(--sklearn-color-background);\n",
       "  position: relative;\n",
       "}\n",
       "\n",
       "#sk-container-id-5 div.sk-parallel-item {\n",
       "  display: flex;\n",
       "  flex-direction: column;\n",
       "}\n",
       "\n",
       "#sk-container-id-5 div.sk-parallel-item:first-child::after {\n",
       "  align-self: flex-end;\n",
       "  width: 50%;\n",
       "}\n",
       "\n",
       "#sk-container-id-5 div.sk-parallel-item:last-child::after {\n",
       "  align-self: flex-start;\n",
       "  width: 50%;\n",
       "}\n",
       "\n",
       "#sk-container-id-5 div.sk-parallel-item:only-child::after {\n",
       "  width: 0;\n",
       "}\n",
       "\n",
       "/* Serial-specific style estimator block */\n",
       "\n",
       "#sk-container-id-5 div.sk-serial {\n",
       "  display: flex;\n",
       "  flex-direction: column;\n",
       "  align-items: center;\n",
       "  background-color: var(--sklearn-color-background);\n",
       "  padding-right: 1em;\n",
       "  padding-left: 1em;\n",
       "}\n",
       "\n",
       "\n",
       "/* Toggleable style: style used for estimator/Pipeline/ColumnTransformer box that is\n",
       "clickable and can be expanded/collapsed.\n",
       "- Pipeline and ColumnTransformer use this feature and define the default style\n",
       "- Estimators will overwrite some part of the style using the `sk-estimator` class\n",
       "*/\n",
       "\n",
       "/* Pipeline and ColumnTransformer style (default) */\n",
       "\n",
       "#sk-container-id-5 div.sk-toggleable {\n",
       "  /* Default theme specific background. It is overwritten whether we have a\n",
       "  specific estimator or a Pipeline/ColumnTransformer */\n",
       "  background-color: var(--sklearn-color-background);\n",
       "}\n",
       "\n",
       "/* Toggleable label */\n",
       "#sk-container-id-5 label.sk-toggleable__label {\n",
       "  cursor: pointer;\n",
       "  display: block;\n",
       "  width: 100%;\n",
       "  margin-bottom: 0;\n",
       "  padding: 0.5em;\n",
       "  box-sizing: border-box;\n",
       "  text-align: center;\n",
       "}\n",
       "\n",
       "#sk-container-id-5 label.sk-toggleable__label-arrow:before {\n",
       "  /* Arrow on the left of the label */\n",
       "  content: \"▸\";\n",
       "  float: left;\n",
       "  margin-right: 0.25em;\n",
       "  color: var(--sklearn-color-icon);\n",
       "}\n",
       "\n",
       "#sk-container-id-5 label.sk-toggleable__label-arrow:hover:before {\n",
       "  color: var(--sklearn-color-text);\n",
       "}\n",
       "\n",
       "/* Toggleable content - dropdown */\n",
       "\n",
       "#sk-container-id-5 div.sk-toggleable__content {\n",
       "  max-height: 0;\n",
       "  max-width: 0;\n",
       "  overflow: hidden;\n",
       "  text-align: left;\n",
       "  /* unfitted */\n",
       "  background-color: var(--sklearn-color-unfitted-level-0);\n",
       "}\n",
       "\n",
       "#sk-container-id-5 div.sk-toggleable__content.fitted {\n",
       "  /* fitted */\n",
       "  background-color: var(--sklearn-color-fitted-level-0);\n",
       "}\n",
       "\n",
       "#sk-container-id-5 div.sk-toggleable__content pre {\n",
       "  margin: 0.2em;\n",
       "  border-radius: 0.25em;\n",
       "  color: var(--sklearn-color-text);\n",
       "  /* unfitted */\n",
       "  background-color: var(--sklearn-color-unfitted-level-0);\n",
       "}\n",
       "\n",
       "#sk-container-id-5 div.sk-toggleable__content.fitted pre {\n",
       "  /* unfitted */\n",
       "  background-color: var(--sklearn-color-fitted-level-0);\n",
       "}\n",
       "\n",
       "#sk-container-id-5 input.sk-toggleable__control:checked~div.sk-toggleable__content {\n",
       "  /* Expand drop-down */\n",
       "  max-height: 200px;\n",
       "  max-width: 100%;\n",
       "  overflow: auto;\n",
       "}\n",
       "\n",
       "#sk-container-id-5 input.sk-toggleable__control:checked~label.sk-toggleable__label-arrow:before {\n",
       "  content: \"▾\";\n",
       "}\n",
       "\n",
       "/* Pipeline/ColumnTransformer-specific style */\n",
       "\n",
       "#sk-container-id-5 div.sk-label input.sk-toggleable__control:checked~label.sk-toggleable__label {\n",
       "  color: var(--sklearn-color-text);\n",
       "  background-color: var(--sklearn-color-unfitted-level-2);\n",
       "}\n",
       "\n",
       "#sk-container-id-5 div.sk-label.fitted input.sk-toggleable__control:checked~label.sk-toggleable__label {\n",
       "  background-color: var(--sklearn-color-fitted-level-2);\n",
       "}\n",
       "\n",
       "/* Estimator-specific style */\n",
       "\n",
       "/* Colorize estimator box */\n",
       "#sk-container-id-5 div.sk-estimator input.sk-toggleable__control:checked~label.sk-toggleable__label {\n",
       "  /* unfitted */\n",
       "  background-color: var(--sklearn-color-unfitted-level-2);\n",
       "}\n",
       "\n",
       "#sk-container-id-5 div.sk-estimator.fitted input.sk-toggleable__control:checked~label.sk-toggleable__label {\n",
       "  /* fitted */\n",
       "  background-color: var(--sklearn-color-fitted-level-2);\n",
       "}\n",
       "\n",
       "#sk-container-id-5 div.sk-label label.sk-toggleable__label,\n",
       "#sk-container-id-5 div.sk-label label {\n",
       "  /* The background is the default theme color */\n",
       "  color: var(--sklearn-color-text-on-default-background);\n",
       "}\n",
       "\n",
       "/* On hover, darken the color of the background */\n",
       "#sk-container-id-5 div.sk-label:hover label.sk-toggleable__label {\n",
       "  color: var(--sklearn-color-text);\n",
       "  background-color: var(--sklearn-color-unfitted-level-2);\n",
       "}\n",
       "\n",
       "/* Label box, darken color on hover, fitted */\n",
       "#sk-container-id-5 div.sk-label.fitted:hover label.sk-toggleable__label.fitted {\n",
       "  color: var(--sklearn-color-text);\n",
       "  background-color: var(--sklearn-color-fitted-level-2);\n",
       "}\n",
       "\n",
       "/* Estimator label */\n",
       "\n",
       "#sk-container-id-5 div.sk-label label {\n",
       "  font-family: monospace;\n",
       "  font-weight: bold;\n",
       "  display: inline-block;\n",
       "  line-height: 1.2em;\n",
       "}\n",
       "\n",
       "#sk-container-id-5 div.sk-label-container {\n",
       "  text-align: center;\n",
       "}\n",
       "\n",
       "/* Estimator-specific */\n",
       "#sk-container-id-5 div.sk-estimator {\n",
       "  font-family: monospace;\n",
       "  border: 1px dotted var(--sklearn-color-border-box);\n",
       "  border-radius: 0.25em;\n",
       "  box-sizing: border-box;\n",
       "  margin-bottom: 0.5em;\n",
       "  /* unfitted */\n",
       "  background-color: var(--sklearn-color-unfitted-level-0);\n",
       "}\n",
       "\n",
       "#sk-container-id-5 div.sk-estimator.fitted {\n",
       "  /* fitted */\n",
       "  background-color: var(--sklearn-color-fitted-level-0);\n",
       "}\n",
       "\n",
       "/* on hover */\n",
       "#sk-container-id-5 div.sk-estimator:hover {\n",
       "  /* unfitted */\n",
       "  background-color: var(--sklearn-color-unfitted-level-2);\n",
       "}\n",
       "\n",
       "#sk-container-id-5 div.sk-estimator.fitted:hover {\n",
       "  /* fitted */\n",
       "  background-color: var(--sklearn-color-fitted-level-2);\n",
       "}\n",
       "\n",
       "/* Specification for estimator info (e.g. \"i\" and \"?\") */\n",
       "\n",
       "/* Common style for \"i\" and \"?\" */\n",
       "\n",
       ".sk-estimator-doc-link,\n",
       "a:link.sk-estimator-doc-link,\n",
       "a:visited.sk-estimator-doc-link {\n",
       "  float: right;\n",
       "  font-size: smaller;\n",
       "  line-height: 1em;\n",
       "  font-family: monospace;\n",
       "  background-color: var(--sklearn-color-background);\n",
       "  border-radius: 1em;\n",
       "  height: 1em;\n",
       "  width: 1em;\n",
       "  text-decoration: none !important;\n",
       "  margin-left: 1ex;\n",
       "  /* unfitted */\n",
       "  border: var(--sklearn-color-unfitted-level-1) 1pt solid;\n",
       "  color: var(--sklearn-color-unfitted-level-1);\n",
       "}\n",
       "\n",
       ".sk-estimator-doc-link.fitted,\n",
       "a:link.sk-estimator-doc-link.fitted,\n",
       "a:visited.sk-estimator-doc-link.fitted {\n",
       "  /* fitted */\n",
       "  border: var(--sklearn-color-fitted-level-1) 1pt solid;\n",
       "  color: var(--sklearn-color-fitted-level-1);\n",
       "}\n",
       "\n",
       "/* On hover */\n",
       "div.sk-estimator:hover .sk-estimator-doc-link:hover,\n",
       ".sk-estimator-doc-link:hover,\n",
       "div.sk-label-container:hover .sk-estimator-doc-link:hover,\n",
       ".sk-estimator-doc-link:hover {\n",
       "  /* unfitted */\n",
       "  background-color: var(--sklearn-color-unfitted-level-3);\n",
       "  color: var(--sklearn-color-background);\n",
       "  text-decoration: none;\n",
       "}\n",
       "\n",
       "div.sk-estimator.fitted:hover .sk-estimator-doc-link.fitted:hover,\n",
       ".sk-estimator-doc-link.fitted:hover,\n",
       "div.sk-label-container:hover .sk-estimator-doc-link.fitted:hover,\n",
       ".sk-estimator-doc-link.fitted:hover {\n",
       "  /* fitted */\n",
       "  background-color: var(--sklearn-color-fitted-level-3);\n",
       "  color: var(--sklearn-color-background);\n",
       "  text-decoration: none;\n",
       "}\n",
       "\n",
       "/* Span, style for the box shown on hovering the info icon */\n",
       ".sk-estimator-doc-link span {\n",
       "  display: none;\n",
       "  z-index: 9999;\n",
       "  position: relative;\n",
       "  font-weight: normal;\n",
       "  right: .2ex;\n",
       "  padding: .5ex;\n",
       "  margin: .5ex;\n",
       "  width: min-content;\n",
       "  min-width: 20ex;\n",
       "  max-width: 50ex;\n",
       "  color: var(--sklearn-color-text);\n",
       "  box-shadow: 2pt 2pt 4pt #999;\n",
       "  /* unfitted */\n",
       "  background: var(--sklearn-color-unfitted-level-0);\n",
       "  border: .5pt solid var(--sklearn-color-unfitted-level-3);\n",
       "}\n",
       "\n",
       ".sk-estimator-doc-link.fitted span {\n",
       "  /* fitted */\n",
       "  background: var(--sklearn-color-fitted-level-0);\n",
       "  border: var(--sklearn-color-fitted-level-3);\n",
       "}\n",
       "\n",
       ".sk-estimator-doc-link:hover span {\n",
       "  display: block;\n",
       "}\n",
       "\n",
       "/* \"?\"-specific style due to the `<a>` HTML tag */\n",
       "\n",
       "#sk-container-id-5 a.estimator_doc_link {\n",
       "  float: right;\n",
       "  font-size: 1rem;\n",
       "  line-height: 1em;\n",
       "  font-family: monospace;\n",
       "  background-color: var(--sklearn-color-background);\n",
       "  border-radius: 1rem;\n",
       "  height: 1rem;\n",
       "  width: 1rem;\n",
       "  text-decoration: none;\n",
       "  /* unfitted */\n",
       "  color: var(--sklearn-color-unfitted-level-1);\n",
       "  border: var(--sklearn-color-unfitted-level-1) 1pt solid;\n",
       "}\n",
       "\n",
       "#sk-container-id-5 a.estimator_doc_link.fitted {\n",
       "  /* fitted */\n",
       "  border: var(--sklearn-color-fitted-level-1) 1pt solid;\n",
       "  color: var(--sklearn-color-fitted-level-1);\n",
       "}\n",
       "\n",
       "/* On hover */\n",
       "#sk-container-id-5 a.estimator_doc_link:hover {\n",
       "  /* unfitted */\n",
       "  background-color: var(--sklearn-color-unfitted-level-3);\n",
       "  color: var(--sklearn-color-background);\n",
       "  text-decoration: none;\n",
       "}\n",
       "\n",
       "#sk-container-id-5 a.estimator_doc_link.fitted:hover {\n",
       "  /* fitted */\n",
       "  background-color: var(--sklearn-color-fitted-level-3);\n",
       "}\n",
       "</style><div id=\"sk-container-id-5\" class=\"sk-top-container\"><div class=\"sk-text-repr-fallback\"><pre>SimpleImputer(strategy=&#x27;median&#x27;)</pre><b>In a Jupyter environment, please rerun this cell to show the HTML representation or trust the notebook. <br />On GitHub, the HTML representation is unable to render, please try loading this page with nbviewer.org.</b></div><div class=\"sk-container\" hidden><div class=\"sk-item\"><div class=\"sk-estimator fitted sk-toggleable\"><input class=\"sk-toggleable__control sk-hidden--visually\" id=\"sk-estimator-id-5\" type=\"checkbox\" checked><label for=\"sk-estimator-id-5\" class=\"sk-toggleable__label fitted sk-toggleable__label-arrow fitted\">&nbsp;&nbsp;SimpleImputer<a class=\"sk-estimator-doc-link fitted\" rel=\"noreferrer\" target=\"_blank\" href=\"https://scikit-learn.org/1.5/modules/generated/sklearn.impute.SimpleImputer.html\">?<span>Documentation for SimpleImputer</span></a><span class=\"sk-estimator-doc-link fitted\">i<span>Fitted</span></span></label><div class=\"sk-toggleable__content fitted\"><pre>SimpleImputer(strategy=&#x27;median&#x27;)</pre></div> </div></div></div></div>"
      ],
      "text/plain": [
       "SimpleImputer(strategy='median')"
      ]
     },
     "execution_count": 149,
     "metadata": {},
     "output_type": "execute_result"
    }
   ],
   "source": [
    "im.fit(train[varc])"
   ]
  },
  {
   "cell_type": "code",
   "execution_count": 150,
   "metadata": {},
   "outputs": [],
   "source": [
    "Xt = train[um+varc].copy()"
   ]
  },
  {
   "cell_type": "code",
   "execution_count": 151,
   "metadata": {},
   "outputs": [],
   "source": [
    "Xt[varc] = im.transform(Xt[varc])"
   ]
  },
  {
   "cell_type": "code",
   "execution_count": 152,
   "metadata": {},
   "outputs": [
    {
     "data": {
      "text/plain": [
       "((5000, 9), (5000, 9))"
      ]
     },
     "execution_count": 152,
     "metadata": {},
     "output_type": "execute_result"
    }
   ],
   "source": [
    "Xt.dropna().shape,Xt.shape"
   ]
  },
  {
   "cell_type": "code",
   "execution_count": 153,
   "metadata": {},
   "outputs": [
    {
     "name": "stdout",
     "output_type": "stream",
     "text": [
      "c_ticket_prom 0.0\n",
      "c_num_meses_activo 0.0\n",
      "c_prom_ing_mes_c_prop 0.0\n",
      "c_prom_ing_mes_s_prop 0.0\n",
      "c_pct_viajes_malos 0.0096\n",
      "c_distancia_promedio 0.0096\n",
      "c_pct_cash 0.009698021619416684\n"
     ]
    }
   ],
   "source": [
    "for v in varc:\n",
    "    print(v,stats.ks_2samp(train[v].dropna(),Xt[v]).statistic)\n"
   ]
  },
  {
   "cell_type": "markdown",
   "metadata": {},
   "source": [
    "#### Multicolinealidad "
   ]
  },
  {
   "cell_type": "code",
   "execution_count": 154,
   "metadata": {},
   "outputs": [
    {
     "data": {
      "text/plain": [
       "['c_pct_viajes_malos', 'c_prom_ing_mes_c_prop']"
      ]
     },
     "execution_count": 154,
     "metadata": {},
     "output_type": "execute_result"
    }
   ],
   "source": [
    "vc = VarClusHi(Xt,feat_list=varc).varclus()\n",
    "mc = list(vc.rsquare.sort_values(by=['Cluster','RS_Ratio']).groupby('Cluster').first()['Variable'])\n",
    "mc"
   ]
  },
  {
   "cell_type": "markdown",
   "metadata": {},
   "source": [
    "#### Extremos"
   ]
  },
  {
   "cell_type": "code",
   "execution_count": 155,
   "metadata": {},
   "outputs": [
    {
     "data": {
      "text/plain": [
       "array([[<Axes: title={'center': 'c_pct_viajes_malos'}>,\n",
       "        <Axes: title={'center': 'c_prom_ing_mes_c_prop'}>]], dtype=object)"
      ]
     },
     "execution_count": 155,
     "metadata": {},
     "output_type": "execute_result"
    },
    {
     "data": {
      "image/png": "[encoded data removed]",
      "text/plain": [
       "<Figure size 500x300 with 2 Axes>"
      ]
     },
     "metadata": {},
     "output_type": "display_data"
    }
   ],
   "source": [
    "Xt[mc].hist(figsize=(5,3))"
   ]
  },
  {
   "cell_type": "code",
   "execution_count": 156,
   "metadata": {},
   "outputs": [],
   "source": [
    "for v,li,ls in Xt[mc].describe(percentiles=[0.01,0.99]).T[['1%','99%']].reset_index().values:\n",
    "    Xt[f'ex_{v}'] =((Xt[v]<li)|(Xt[v]>ls)).astype(int)\n",
    "Xt['ex_'] = Xt[[f'ex_{v}' for v in mc]].max(axis=1)"
   ]
  },
  {
   "cell_type": "code",
   "execution_count": 157,
   "metadata": {},
   "outputs": [
    {
     "name": "stdout",
     "output_type": "stream",
     "text": [
      "****Frequency Table  ex_  ***\n",
      "\n",
      "\n",
      "     Abs. Freq.  Rel. Freq.  Cumm. Abs. Freq.  Cumm. Rel. Freq.\n",
      "ex_                                                            \n",
      "0          4818      0.9636              4818            0.9636\n",
      "1           182      0.0364              5000            1.0000\n",
      "\n",
      "\n",
      "\n",
      "\n"
     ]
    }
   ],
   "source": [
    "frequency_table(Xt,'ex_')"
   ]
  },
  {
   "cell_type": "code",
   "execution_count": 158,
   "metadata": {},
   "outputs": [],
   "source": [
    "Xt = Xt.loc[Xt['ex_']==0].reset_index(drop=True)\n",
    "Xt.drop(columns=[f'ex_{v}' for v in mc]+['ex_'],inplace=True)"
   ]
  },
  {
   "cell_type": "code",
   "execution_count": 159,
   "metadata": {},
   "outputs": [
    {
     "data": {
      "text/plain": [
       "array([[<Axes: title={'center': 'c_pct_viajes_malos'}>,\n",
       "        <Axes: title={'center': 'c_prom_ing_mes_c_prop'}>]], dtype=object)"
      ]
     },
     "execution_count": 159,
     "metadata": {},
     "output_type": "execute_result"
    },
    {
     "data": {
      "image/png": "[encoded data removed]",
      "text/plain": [
       "<Figure size 500x300 with 2 Axes>"
      ]
     },
     "metadata": {},
     "output_type": "display_data"
    }
   ],
   "source": [
    "Xt[mc].hist(figsize=(5,3))"
   ]
  },
  {
   "cell_type": "markdown",
   "metadata": {},
   "source": [
    "### Discreto "
   ]
  },
  {
   "cell_type": "code",
   "execution_count": 160,
   "metadata": {},
   "outputs": [],
   "source": [
    "for v in vard:\n",
    "    train[v] = train[v].fillna('MISSING')"
   ]
  },
  {
   "cell_type": "code",
   "execution_count": 161,
   "metadata": {},
   "outputs": [
    {
     "name": "stdout",
     "output_type": "stream",
     "text": [
      "****Frequency Table  d_debajo_prom_ing  ***\n",
      "\n",
      "\n",
      "                   Abs. Freq.  Rel. Freq.  Cumm. Abs. Freq.  Cumm. Rel. Freq.\n",
      "d_debajo_prom_ing                                                            \n",
      "False                    2691      0.5382              2691            0.5382\n",
      "True                     2309      0.4618              5000            1.0000\n",
      "\n",
      "\n",
      "\n",
      "\n",
      "****Frequency Table  d_empresa  ***\n",
      "\n",
      "\n",
      "           Abs. Freq.  Rel. Freq.  Cumm. Abs. Freq.  Cumm. Rel. Freq.\n",
      "d_empresa                                                            \n",
      "E117              202      0.0404               202            0.0404\n",
      "E122              242      0.0484               444            0.0888\n",
      "E125              275      0.0550               719            0.1438\n",
      "E131              185      0.0370               904            0.1808\n",
      "E133              189      0.0378              1093            0.2186\n",
      "E135              148      0.0296              1241            0.2482\n",
      "E137              500      0.1000              1741            0.3482\n",
      "E139               77      0.0154              1818            0.3636\n",
      "E144              170      0.0340              1988            0.3976\n",
      "E164              205      0.0410              2193            0.4386\n",
      "E166              112      0.0224              2305            0.4610\n",
      "E167             1072      0.2144              3377            0.6754\n",
      "E176              147      0.0294              3524            0.7048\n",
      "MISSING            96      0.0192              3620            0.7240\n",
      "OTRA             1380      0.2760              5000            1.0000\n",
      "\n",
      "\n",
      "\n",
      "\n",
      "****Frequency Table  d_mes  ***\n",
      "\n",
      "\n",
      "       Abs. Freq.  Rel. Freq.  Cumm. Abs. Freq.  Cumm. Rel. Freq.\n",
      "d_mes                                                            \n",
      "1             383      0.0766               383            0.0766\n",
      "2             400      0.0800               783            0.1566\n",
      "3             365      0.0730              1148            0.2296\n",
      "4             374      0.0748              1522            0.3044\n",
      "5             394      0.0788              1916            0.3832\n",
      "6             464      0.0928              2380            0.4760\n",
      "7             434      0.0868              2814            0.5628\n",
      "8             450      0.0900              3264            0.6528\n",
      "9             436      0.0872              3700            0.7400\n",
      "10            428      0.0856              4128            0.8256\n",
      "11            423      0.0846              4551            0.9102\n",
      "12            449      0.0898              5000            1.0000\n",
      "\n",
      "\n",
      "\n",
      "\n"
     ]
    }
   ],
   "source": [
    "frequency_table(train,vard)"
   ]
  },
  {
   "cell_type": "markdown",
   "metadata": {},
   "source": [
    "#### Normalize discrete variables"
   ]
  },
  {
   "cell_type": "code",
   "execution_count": 162,
   "metadata": {},
   "outputs": [
    {
     "name": "stdout",
     "output_type": "stream",
     "text": [
      "****Frequency Table  d_debajo_prom_ing  ***\n",
      "\n",
      "\n",
      "                   Abs. Freq.  Rel. Freq.  Cumm. Abs. Freq.  Cumm. Rel. Freq.\n",
      "d_debajo_prom_ing                                                            \n",
      "False                    2691      0.5382              2691            0.5382\n",
      "True                     2309      0.4618              5000            1.0000\n",
      "\n",
      "\n",
      "\n",
      "\n",
      "****Frequency Table  d_empresa  ***\n",
      "\n",
      "\n",
      "                  Abs. Freq.  Rel. Freq.  Cumm. Abs. Freq.  Cumm. Rel. Freq.\n",
      "d_empresa                                                                   \n",
      "E125                     275      0.0550               275            0.0550\n",
      "E137                     500      0.1000               775            0.1550\n",
      "E167                    1072      0.2144              1847            0.3694\n",
      "OTRA                    1380      0.2760              3227            0.6454\n",
      "SMALL CATEGORIES        1773      0.3546              5000            1.0000\n",
      "\n",
      "\n",
      "\n",
      "\n",
      "****Frequency Table  d_mes  ***\n",
      "\n",
      "\n",
      "       Abs. Freq.  Rel. Freq.  Cumm. Abs. Freq.  Cumm. Rel. Freq.\n",
      "d_mes                                                            \n",
      "1             383      0.0766               383            0.0766\n",
      "10            428      0.0856               811            0.1622\n",
      "11            423      0.0846              1234            0.2468\n",
      "12            449      0.0898              1683            0.3366\n",
      "2             400      0.0800              2083            0.4166\n",
      "3             365      0.0730              2448            0.4896\n",
      "4             374      0.0748              2822            0.5644\n",
      "5             394      0.0788              3216            0.6432\n",
      "6             464      0.0928              3680            0.7360\n",
      "7             434      0.0868              4114            0.8228\n",
      "8             450      0.0900              4564            0.9128\n",
      "9             436      0.0872              5000            1.0000\n",
      "\n",
      "\n",
      "\n",
      "\n"
     ]
    }
   ],
   "source": [
    "dn = DiscreteNormalizer(normalization_threshold=0.05,default_category='SMALL CATEGORIES')\n",
    "dn.fit(train[vard])\n",
    "Xtn = dn.transform(train[vard])\n",
    "Xtn[um] = train[um]\n",
    "frequency_table(Xtn,vard)"
   ]
  },
  {
   "cell_type": "code",
   "execution_count": 163,
   "metadata": {},
   "outputs": [
    {
     "data": {
      "text/plain": [
       "[]"
      ]
     },
     "execution_count": 163,
     "metadata": {},
     "output_type": "execute_result"
    }
   ],
   "source": [
    "unary = [v for v in vard if Xtn[v].nunique()==1]\n",
    "unary"
   ]
  },
  {
   "cell_type": "code",
   "execution_count": 164,
   "metadata": {},
   "outputs": [],
   "source": [
    "vard = [v for v in vard if v not in unary]"
   ]
  },
  {
   "cell_type": "code",
   "execution_count": 165,
   "metadata": {},
   "outputs": [
    {
     "data": {
      "text/html": [
       "<div>\n",
       "<style scoped>\n",
       "    .dataframe tbody tr th:only-of-type {\n",
       "        vertical-align: middle;\n",
       "    }\n",
       "\n",
       "    .dataframe tbody tr th {\n",
       "        vertical-align: top;\n",
       "    }\n",
       "\n",
       "    .dataframe thead th {\n",
       "        text-align: right;\n",
       "    }\n",
       "</style>\n",
       "<table border=\"1\" class=\"dataframe\">\n",
       "  <thead>\n",
       "    <tr style=\"text-align: right;\">\n",
       "      <th></th>\n",
       "      <th>id_taxi</th>\n",
       "      <th>fh_mes</th>\n",
       "      <th>c_pct_viajes_malos</th>\n",
       "      <th>c_prom_ing_mes_c_prop</th>\n",
       "      <th>d_debajo_prom_ing</th>\n",
       "      <th>d_empresa</th>\n",
       "      <th>d_mes</th>\n",
       "      <th>fuga</th>\n",
       "    </tr>\n",
       "  </thead>\n",
       "  <tbody>\n",
       "    <tr>\n",
       "      <th>0</th>\n",
       "      <td>4820</td>\n",
       "      <td>2019-05-01</td>\n",
       "      <td>0.644162</td>\n",
       "      <td>10184.348333</td>\n",
       "      <td>False</td>\n",
       "      <td>E137</td>\n",
       "      <td>5</td>\n",
       "      <td>0</td>\n",
       "    </tr>\n",
       "    <tr>\n",
       "      <th>1</th>\n",
       "      <td>834</td>\n",
       "      <td>2016-03-01</td>\n",
       "      <td>0.868954</td>\n",
       "      <td>11545.965000</td>\n",
       "      <td>False</td>\n",
       "      <td>SMALL CATEGORIES</td>\n",
       "      <td>3</td>\n",
       "      <td>0</td>\n",
       "    </tr>\n",
       "    <tr>\n",
       "      <th>2</th>\n",
       "      <td>5464</td>\n",
       "      <td>2014-12-01</td>\n",
       "      <td>0.881894</td>\n",
       "      <td>3874.758333</td>\n",
       "      <td>True</td>\n",
       "      <td>OTRA</td>\n",
       "      <td>12</td>\n",
       "      <td>0</td>\n",
       "    </tr>\n",
       "    <tr>\n",
       "      <th>3</th>\n",
       "      <td>5382</td>\n",
       "      <td>2022-09-01</td>\n",
       "      <td>0.374276</td>\n",
       "      <td>10167.900000</td>\n",
       "      <td>False</td>\n",
       "      <td>E137</td>\n",
       "      <td>9</td>\n",
       "      <td>0</td>\n",
       "    </tr>\n",
       "    <tr>\n",
       "      <th>4</th>\n",
       "      <td>3354</td>\n",
       "      <td>2022-01-01</td>\n",
       "      <td>0.848237</td>\n",
       "      <td>4315.906667</td>\n",
       "      <td>True</td>\n",
       "      <td>E167</td>\n",
       "      <td>1</td>\n",
       "      <td>0</td>\n",
       "    </tr>\n",
       "  </tbody>\n",
       "</table>\n",
       "</div>"
      ],
      "text/plain": [
       "   id_taxi      fh_mes  c_pct_viajes_malos  c_prom_ing_mes_c_prop  \\\n",
       "0     4820  2019-05-01            0.644162           10184.348333   \n",
       "1      834  2016-03-01            0.868954           11545.965000   \n",
       "2     5464  2014-12-01            0.881894            3874.758333   \n",
       "3     5382  2022-09-01            0.374276           10167.900000   \n",
       "4     3354  2022-01-01            0.848237            4315.906667   \n",
       "\n",
       "  d_debajo_prom_ing         d_empresa d_mes  fuga  \n",
       "0             False              E137     5     0  \n",
       "1             False  SMALL CATEGORIES     3     0  \n",
       "2              True              OTRA    12     0  \n",
       "3             False              E137     9     0  \n",
       "4              True              E167     1     0  "
      ]
     },
     "execution_count": 165,
     "metadata": {},
     "output_type": "execute_result"
    }
   ],
   "source": [
    "#Merge continuous features matrix with the normalized discrete predictors Matrix\n",
    "Xt = Xt.merge(Xtn, on=um, how='inner').merge(train[um+vart],on=um,how='inner')[um+mc+vard+vart]\n",
    "Xt.head()"
   ]
  },
  {
   "cell_type": "code",
   "execution_count": 166,
   "metadata": {},
   "outputs": [
    {
     "name": "stdout",
     "output_type": "stream",
     "text": [
      "****Frequency Table  fuga  ***\n",
      "\n",
      "\n",
      "      Abs. Freq.  Rel. Freq.  Cumm. Abs. Freq.  Cumm. Rel. Freq.\n",
      "fuga                                                            \n",
      "0           4746    0.964634              4746          0.964634\n",
      "1            174    0.035366              4920          1.000000\n",
      "\n",
      "\n",
      "\n",
      "\n"
     ]
    }
   ],
   "source": [
    "frequency_table(Xt,vart)"
   ]
  },
  {
   "cell_type": "code",
   "execution_count": 167,
   "metadata": {},
   "outputs": [],
   "source": [
    "wcf = WoeContinuousFeatureSelector()\n",
    "wdf = WoeDiscreteFeatureSelector()\n",
    "\n",
    "#  Perform feature selection\n",
    "wcf.fit(Xt[mc],Xt[vart[0]],\n",
    "        max_bins=6,\n",
    "        strictly_monotonic=True,\n",
    "        iv_threshold=0.1,\n",
    "        method='dcc',\n",
    "        n_threads=20)\n",
    "\n",
    "wdf.fit(Xt[vard],Xt[vart[0]],iv_threshold=0.1)\n"
   ]
  },
  {
   "cell_type": "code",
   "execution_count": 168,
   "metadata": {},
   "outputs": [
    {
     "name": "stdout",
     "output_type": "stream",
     "text": [
      "Best continuous features:  [{'feature': 'disc_c_pct_viajes_malos_2_quantile', 'iv': 0.12791940844902072, 'root_feature': 'c_pct_viajes_malos', 'nbins': '2', 'method': 'quantile'}, {'feature': 'disc_c_prom_ing_mes_c_prop_5_quantile', 'iv': 0.5271417380589063, 'root_feature': 'c_prom_ing_mes_c_prop', 'nbins': '5', 'method': 'quantile'}]\n",
      "Best discrete features:  {'d_debajo_prom_ing': 0.4066223144407105, 'd_empresa': 0.20458635878940917, 'd_mes': 0.4256063958129421}\n",
      "Best Features selected:  ['d_debajo_prom_ing', 'd_empresa', 'd_mes', 'disc_c_pct_viajes_malos_2_quantile', 'disc_c_prom_ing_mes_c_prop_5_quantile']\n"
     ]
    }
   ],
   "source": [
    "#  Create new matrix with discrete and discretized best features \n",
    "Xt = pd.concat([wdf.transform(Xt[vard]),wcf.transform(Xt[mc]),Xt[um+vart]],axis=1)\n",
    "\n",
    "features = [v for v in Xt.columns if v not in um+vart]\n",
    "\n",
    "#  Print selection results\n",
    "print(\"Best continuous features: \", wcf.selected_features)\n",
    "print(\"Best discrete features: \",wdf.selected_features)\n",
    "print(\"Best Features selected: \",features)"
   ]
  },
  {
   "cell_type": "code",
   "execution_count": 169,
   "metadata": {},
   "outputs": [
    {
     "data": {
      "text/html": [
       "<div>\n",
       "<style scoped>\n",
       "    .dataframe tbody tr th:only-of-type {\n",
       "        vertical-align: middle;\n",
       "    }\n",
       "\n",
       "    .dataframe tbody tr th {\n",
       "        vertical-align: top;\n",
       "    }\n",
       "\n",
       "    .dataframe thead th {\n",
       "        text-align: right;\n",
       "    }\n",
       "</style>\n",
       "<table border=\"1\" class=\"dataframe\">\n",
       "  <thead>\n",
       "    <tr style=\"text-align: right;\">\n",
       "      <th></th>\n",
       "      <th>feature</th>\n",
       "      <th>iv</th>\n",
       "      <th>root_feature</th>\n",
       "      <th>nbins</th>\n",
       "      <th>method</th>\n",
       "    </tr>\n",
       "  </thead>\n",
       "  <tbody>\n",
       "    <tr>\n",
       "      <th>0</th>\n",
       "      <td>disc_c_pct_viajes_malos_2_quantile</td>\n",
       "      <td>0.127919</td>\n",
       "      <td>c_pct_viajes_malos</td>\n",
       "      <td>2</td>\n",
       "      <td>quantile</td>\n",
       "    </tr>\n",
       "    <tr>\n",
       "      <th>1</th>\n",
       "      <td>disc_c_prom_ing_mes_c_prop_5_quantile</td>\n",
       "      <td>0.527142</td>\n",
       "      <td>c_prom_ing_mes_c_prop</td>\n",
       "      <td>5</td>\n",
       "      <td>quantile</td>\n",
       "    </tr>\n",
       "  </tbody>\n",
       "</table>\n",
       "</div>"
      ],
      "text/plain": [
       "                                 feature        iv           root_feature  \\\n",
       "0     disc_c_pct_viajes_malos_2_quantile  0.127919     c_pct_viajes_malos   \n",
       "1  disc_c_prom_ing_mes_c_prop_5_quantile  0.527142  c_prom_ing_mes_c_prop   \n",
       "\n",
       "  nbins    method  \n",
       "0     2  quantile  \n",
       "1     5  quantile  "
      ]
     },
     "execution_count": 169,
     "metadata": {},
     "output_type": "execute_result"
    }
   ],
   "source": [
    "pd.DataFrame(wcf.selected_features)"
   ]
  },
  {
   "cell_type": "code",
   "execution_count": 170,
   "metadata": {},
   "outputs": [
    {
     "data": {
      "text/plain": [
       "{'d_debajo_prom_ing': 0.4066223144407105,\n",
       " 'd_empresa': 0.20458635878940917,\n",
       " 'd_mes': 0.4256063958129421}"
      ]
     },
     "execution_count": 170,
     "metadata": {},
     "output_type": "execute_result"
    }
   ],
   "source": [
    "wdf.selected_features"
   ]
  },
  {
   "cell_type": "markdown",
   "metadata": {},
   "source": [
    "## WoE Transformation"
   ]
  },
  {
   "cell_type": "code",
   "execution_count": 171,
   "metadata": {},
   "outputs": [
    {
     "data": {
      "text/html": [
       "<div>\n",
       "<style scoped>\n",
       "    .dataframe tbody tr th:only-of-type {\n",
       "        vertical-align: middle;\n",
       "    }\n",
       "\n",
       "    .dataframe tbody tr th {\n",
       "        vertical-align: top;\n",
       "    }\n",
       "\n",
       "    .dataframe thead th {\n",
       "        text-align: right;\n",
       "    }\n",
       "</style>\n",
       "<table border=\"1\" class=\"dataframe\">\n",
       "  <thead>\n",
       "    <tr style=\"text-align: right;\">\n",
       "      <th></th>\n",
       "      <th>d_debajo_prom_ing</th>\n",
       "      <th>d_empresa</th>\n",
       "      <th>d_mes</th>\n",
       "      <th>disc_c_pct_viajes_malos_2_quantile</th>\n",
       "      <th>disc_c_prom_ing_mes_c_prop_5_quantile</th>\n",
       "    </tr>\n",
       "  </thead>\n",
       "  <tbody>\n",
       "    <tr>\n",
       "      <th>0</th>\n",
       "      <td>0.806015</td>\n",
       "      <td>-0.076655</td>\n",
       "      <td>0.037131</td>\n",
       "      <td>-0.298057</td>\n",
       "      <td>1.088447</td>\n",
       "    </tr>\n",
       "    <tr>\n",
       "      <th>1</th>\n",
       "      <td>0.806015</td>\n",
       "      <td>-0.385233</td>\n",
       "      <td>-0.943932</td>\n",
       "      <td>0.433791</td>\n",
       "      <td>1.088447</td>\n",
       "    </tr>\n",
       "    <tr>\n",
       "      <th>2</th>\n",
       "      <td>-0.522028</td>\n",
       "      <td>0.099064</td>\n",
       "      <td>-1.013467</td>\n",
       "      <td>0.433791</td>\n",
       "      <td>-0.853672</td>\n",
       "    </tr>\n",
       "    <tr>\n",
       "      <th>3</th>\n",
       "      <td>0.806015</td>\n",
       "      <td>-0.076655</td>\n",
       "      <td>0.635580</td>\n",
       "      <td>-0.298057</td>\n",
       "      <td>1.088447</td>\n",
       "    </tr>\n",
       "    <tr>\n",
       "      <th>4</th>\n",
       "      <td>-0.522028</td>\n",
       "      <td>0.636550</td>\n",
       "      <td>0.114453</td>\n",
       "      <td>0.433791</td>\n",
       "      <td>-0.853672</td>\n",
       "    </tr>\n",
       "  </tbody>\n",
       "</table>\n",
       "</div>"
      ],
      "text/plain": [
       "   d_debajo_prom_ing  d_empresa     d_mes  disc_c_pct_viajes_malos_2_quantile  \\\n",
       "0           0.806015  -0.076655  0.037131                           -0.298057   \n",
       "1           0.806015  -0.385233 -0.943932                            0.433791   \n",
       "2          -0.522028   0.099064 -1.013467                            0.433791   \n",
       "3           0.806015  -0.076655  0.635580                           -0.298057   \n",
       "4          -0.522028   0.636550  0.114453                            0.433791   \n",
       "\n",
       "   disc_c_prom_ing_mes_c_prop_5_quantile  \n",
       "0                               1.088447  \n",
       "1                               1.088447  \n",
       "2                              -0.853672  \n",
       "3                               1.088447  \n",
       "4                              -0.853672  "
      ]
     },
     "execution_count": 171,
     "metadata": {},
     "output_type": "execute_result"
    }
   ],
   "source": [
    "#  Weight of Evidence Transformation\n",
    "we = WoeEncoder()\n",
    "we.fit(Xt[features],Xt[vart[0]])\n",
    "Xwt = we.transform(Xt[features])\n",
    "Xwt.head()"
   ]
  },
  {
   "cell_type": "markdown",
   "metadata": {},
   "source": [
    "## Aprendizaje con regresión logística"
   ]
  },
  {
   "cell_type": "code",
   "execution_count": 172,
   "metadata": {},
   "outputs": [
    {
     "name": "stdout",
     "output_type": "stream",
     "text": [
      "AUC for training:  0.7976614305573719\n"
     ]
    }
   ],
   "source": [
    "lr = LogisticRegression()\n",
    "lr.fit(Xwt,Xt[vart[0]])\n",
    "print(\"AUC for training: \",roc_auc_score(y_score=lr.predict_proba(Xwt)[:,1],y_true=Xt[vart[0]]))"
   ]
  },
  {
   "cell_type": "code",
   "execution_count": 173,
   "metadata": {},
   "outputs": [
    {
     "data": {
      "text/plain": [
       "(array([[-0.0345715 , -1.11702903, -1.00808496, -0.94132841, -1.003007  ]]),\n",
       " array([-3.29703562]))"
      ]
     },
     "execution_count": 173,
     "metadata": {},
     "output_type": "execute_result"
    }
   ],
   "source": [
    "lr.coef_,lr.intercept_"
   ]
  },
  {
   "cell_type": "markdown",
   "metadata": {},
   "source": [
    "## Scoring "
   ]
  },
  {
   "cell_type": "code",
   "execution_count": 174,
   "metadata": {},
   "outputs": [
    {
     "data": {
      "text/html": [
       "<div>\n",
       "<style scoped>\n",
       "    .dataframe tbody tr th:only-of-type {\n",
       "        vertical-align: middle;\n",
       "    }\n",
       "\n",
       "    .dataframe tbody tr th {\n",
       "        vertical-align: top;\n",
       "    }\n",
       "\n",
       "    .dataframe thead th {\n",
       "        text-align: right;\n",
       "    }\n",
       "</style>\n",
       "<table border=\"1\" class=\"dataframe\">\n",
       "  <thead>\n",
       "    <tr style=\"text-align: right;\">\n",
       "      <th></th>\n",
       "      <th></th>\n",
       "      <th>points</th>\n",
       "    </tr>\n",
       "    <tr>\n",
       "      <th>feature</th>\n",
       "      <th>attribute</th>\n",
       "      <th></th>\n",
       "    </tr>\n",
       "  </thead>\n",
       "  <tbody>\n",
       "    <tr>\n",
       "      <th rowspan=\"2\" valign=\"top\">d_debajo_prom_ing</th>\n",
       "      <th>False</th>\n",
       "      <td>61</td>\n",
       "    </tr>\n",
       "    <tr>\n",
       "      <th>True</th>\n",
       "      <td>60</td>\n",
       "    </tr>\n",
       "    <tr>\n",
       "      <th rowspan=\"5\" valign=\"top\">d_empresa</th>\n",
       "      <th>E125</th>\n",
       "      <td>112</td>\n",
       "    </tr>\n",
       "    <tr>\n",
       "      <th>E137</th>\n",
       "      <td>58</td>\n",
       "    </tr>\n",
       "    <tr>\n",
       "      <th>E167</th>\n",
       "      <td>81</td>\n",
       "    </tr>\n",
       "    <tr>\n",
       "      <th>OTRA</th>\n",
       "      <td>64</td>\n",
       "    </tr>\n",
       "    <tr>\n",
       "      <th>SMALL CATEGORIES</th>\n",
       "      <td>48</td>\n",
       "    </tr>\n",
       "    <tr>\n",
       "      <th rowspan=\"12\" valign=\"top\">d_mes</th>\n",
       "      <th>1</th>\n",
       "      <td>64</td>\n",
       "    </tr>\n",
       "    <tr>\n",
       "      <th>10</th>\n",
       "      <td>88</td>\n",
       "    </tr>\n",
       "    <tr>\n",
       "      <th>11</th>\n",
       "      <td>60</td>\n",
       "    </tr>\n",
       "    <tr>\n",
       "      <th>12</th>\n",
       "      <td>31</td>\n",
       "    </tr>\n",
       "    <tr>\n",
       "      <th>2</th>\n",
       "      <td>68</td>\n",
       "    </tr>\n",
       "    <tr>\n",
       "      <th>3</th>\n",
       "      <td>33</td>\n",
       "    </tr>\n",
       "    <tr>\n",
       "      <th>4</th>\n",
       "      <td>64</td>\n",
       "    </tr>\n",
       "    <tr>\n",
       "      <th>5</th>\n",
       "      <td>62</td>\n",
       "    </tr>\n",
       "    <tr>\n",
       "      <th>6</th>\n",
       "      <td>85</td>\n",
       "    </tr>\n",
       "    <tr>\n",
       "      <th>7</th>\n",
       "      <td>83</td>\n",
       "    </tr>\n",
       "    <tr>\n",
       "      <th>8</th>\n",
       "      <td>68</td>\n",
       "    </tr>\n",
       "    <tr>\n",
       "      <th>9</th>\n",
       "      <td>79</td>\n",
       "    </tr>\n",
       "    <tr>\n",
       "      <th rowspan=\"2\" valign=\"top\">disc_c_pct_viajes_malos_2_quantile</th>\n",
       "      <th>(-inf, 0.792]</th>\n",
       "      <td>52</td>\n",
       "    </tr>\n",
       "    <tr>\n",
       "      <th>(0.792, inf]</th>\n",
       "      <td>72</td>\n",
       "    </tr>\n",
       "    <tr>\n",
       "      <th rowspan=\"5\" valign=\"top\">disc_c_prom_ing_mes_c_prop_5_quantile</th>\n",
       "      <th>(-inf, 4483.359]</th>\n",
       "      <td>36</td>\n",
       "    </tr>\n",
       "    <tr>\n",
       "      <th>(4483.359, 5768.45]</th>\n",
       "      <td>52</td>\n",
       "    </tr>\n",
       "    <tr>\n",
       "      <th>(5768.45, 7025.079]</th>\n",
       "      <td>72</td>\n",
       "    </tr>\n",
       "    <tr>\n",
       "      <th>(7025.079, 8653.123]</th>\n",
       "      <td>87</td>\n",
       "    </tr>\n",
       "    <tr>\n",
       "      <th>(8653.123, inf]</th>\n",
       "      <td>92</td>\n",
       "    </tr>\n",
       "  </tbody>\n",
       "</table>\n",
       "</div>"
      ],
      "text/plain": [
       "                                                            points\n",
       "feature                               attribute                   \n",
       "d_debajo_prom_ing                     False                     61\n",
       "                                      True                      60\n",
       "d_empresa                             E125                     112\n",
       "                                      E137                      58\n",
       "                                      E167                      81\n",
       "                                      OTRA                      64\n",
       "                                      SMALL CATEGORIES          48\n",
       "d_mes                                 1                         64\n",
       "                                      10                        88\n",
       "                                      11                        60\n",
       "                                      12                        31\n",
       "                                      2                         68\n",
       "                                      3                         33\n",
       "                                      4                         64\n",
       "                                      5                         62\n",
       "                                      6                         85\n",
       "                                      7                         83\n",
       "                                      8                         68\n",
       "                                      9                         79\n",
       "disc_c_pct_viajes_malos_2_quantile    (-inf, 0.792]             52\n",
       "                                      (0.792, inf]              72\n",
       "disc_c_prom_ing_mes_c_prop_5_quantile (-inf, 4483.359]          36\n",
       "                                      (4483.359, 5768.45]       52\n",
       "                                      (5768.45, 7025.079]       72\n",
       "                                      (7025.079, 8653.123]      87\n",
       "                                      (8653.123, inf]           92"
      ]
     },
     "execution_count": 174,
     "metadata": {},
     "output_type": "execute_result"
    }
   ],
   "source": [
    "cs = CreditScoring()\n",
    "cs.fit(Xwt,we,lr)\n",
    "cs.scorecard"
   ]
  },
  {
   "cell_type": "code",
   "execution_count": 182,
   "metadata": {},
   "outputs": [
    {
     "name": "stdout",
     "output_type": "stream",
     "text": [
      "AUC for validation:  0.800817037981429\n"
     ]
    }
   ],
   "source": [
    "#  Applying all transformations to the validation data is now easy and straightforward\n",
    "#  we can compute AUC to check model overfitting\n",
    "\n",
    "for v in vard:\n",
    "    valid[v] = valid[v].fillna('MISSING')\n",
    "valid[varc]  = im.transform(valid[varc])\n",
    "\n",
    "Xv = pd.concat([wdf.transform(dn.transform(valid[vard])),wcf.transform(valid[mc])],axis=1)\n",
    "Xwv = we.transform(Xv)\n",
    "print(\"AUC for validation: \",roc_auc_score(y_score=lr.predict_proba(Xwv)[:,1],y_true=valid[vart[0]]))"
   ]
  },
  {
   "cell_type": "code",
   "execution_count": 183,
   "metadata": {},
   "outputs": [
    {
     "data": {
      "image/png": "[encoded data removed]",
      "text/plain": [
       "<Figure size 640x480 with 1 Axes>"
      ]
     },
     "metadata": {},
     "output_type": "display_data"
    },
    {
     "data": {
      "image/png": "[encoded data removed]",
      "text/plain": [
       "<Figure size 640x480 with 1 Axes>"
      ]
     },
     "metadata": {},
     "output_type": "display_data"
    }
   ],
   "source": [
    "#  We can check the score transformation distributions for training and validation\n",
    "score = pd.concat([pd.concat([cs.transform(we.inverse_transform(Xwv))[['score']].assign(sample='validation'),valid[vart[0]]],axis=1),\n",
    "pd.concat([cs.transform(we.inverse_transform(Xwt))[['score']].assign(sample='train'),Xt[vart[0]]],axis=1)\n",
    "                  ],ignore_index=True)\n",
    "\n",
    "for s,d in score.groupby('sample'):\n",
    "    plt.figure()\n",
    "    plt.title(s)\n",
    "    sns.histplot(d['score'],legend=True,fill=True,bins=8)"
   ]
  },
  {
   "cell_type": "code",
   "execution_count": 185,
   "metadata": {},
   "outputs": [
    {
     "data": {
      "text/plain": [
       "<Figure size 640x480 with 0 Axes>"
      ]
     },
     "metadata": {},
     "output_type": "display_data"
    },
    {
     "data": {
      "image/png": "[encoded data removed]",
      "text/plain": [
       "<Figure size 640x480 with 1 Axes>"
      ]
     },
     "metadata": {},
     "output_type": "display_data"
    },
    {
     "data": {
      "text/plain": [
       "<Figure size 640x480 with 0 Axes>"
      ]
     },
     "metadata": {},
     "output_type": "display_data"
    },
    {
     "data": {
      "image/png": "[encoded data removed]",
      "text/plain": [
       "<Figure size 640x480 with 1 Axes>"
      ]
     },
     "metadata": {},
     "output_type": "display_data"
    }
   ],
   "source": [
    "#   Finally, we can observe that, the greater the score, the lower the probability of being a \n",
    "#   bad customer (label=1) for both samples. Now all complexity is absorbed   \n",
    "score['score_range'] = pd.cut(score['score'],bins=4,include_lowest=True).astype(str)\n",
    "for s,d in score.groupby('sample'):\n",
    "    aux = d.pivot_table(index=vart[0],\n",
    "                        columns='score_range',\n",
    "                        values='score',\n",
    "                        aggfunc='count',\n",
    "                        fill_value=0)\n",
    "    aux/=aux.sum()\n",
    "    aux = aux.T\n",
    "    plt.figure()\n",
    "    ax = aux.plot(kind='bar',stacked=True,color=['purple','black'])\n",
    "    plt.title(s)"
   ]
  },
  {
   "cell_type": "code",
   "execution_count": 186,
   "metadata": {},
   "outputs": [],
   "source": [
    "score['score_range'] = pd.cut(score['score'],bins=4,include_lowest=True).astype(str)"
   ]
  },
  {
   "cell_type": "code",
   "execution_count": 187,
   "metadata": {},
   "outputs": [],
   "source": [
    "score.groupby(['score_range',vart[0],'sample']).count().to_clipboard()"
   ]
  },
  {
   "cell_type": "code",
   "execution_count": 188,
   "metadata": {},
   "outputs": [
    {
     "data": {
      "text/plain": [
       "(20, np.float64(400.0), 400)"
      ]
     },
     "execution_count": 188,
     "metadata": {},
     "output_type": "execute_result"
    }
   ],
   "source": [
    "cs.pdo,cs.offset,cs.base_score"
   ]
  },
  {
   "cell_type": "code",
   "execution_count": null,
   "metadata": {},
   "outputs": [],
   "source": []
  }
 ],
 "metadata": {
  "kernelspec": {
   "display_name": ".venv",
   "language": "python",
   "name": "python3"
  },
  "language_info": {
   "codemirror_mode": {
    "name": "ipython",
    "version": 3
   },
   "file_extension": ".py",
   "mimetype": "text/x-python",
   "name": "python",
   "nbconvert_exporter": "python",
   "pygments_lexer": "ipython3",
   "version": "3.11.6"
  }
 },
 "nbformat": 4,
 "nbformat_minor": 2
}
